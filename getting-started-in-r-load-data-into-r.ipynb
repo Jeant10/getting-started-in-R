{
 "cells": [
  {
   "cell_type": "markdown",
   "id": "56ed418c",
   "metadata": {
    "_cell_guid": "0926f356-6bbe-4248-99aa-baa691d220ea",
    "_uuid": "6cb0634fab1b2db27213c739e20544e720063ffe",
    "papermill": {
     "duration": 0.006047,
     "end_time": "2023-04-11T02:10:29.528864",
     "exception": false,
     "start_time": "2023-04-11T02:10:29.522817",
     "status": "completed"
    },
    "tags": []
   },
   "source": [
    "![](https://www.r-project.org/Rlogo.png)\n",
    "\n",
    "____________________________________________________________________________________\n",
    "This tutorial is the second part of a series. If you've never programmed before, I recommend checking out the \"[First Steps](https://www.kaggle.com/rtatman/getting-started-in-r-first-steps/)\" part of the tutorial.\n",
    "\n",
    "In this part of the tutorial, we'll:\n",
    "\n",
    "* read data into R\n",
    "* look at the data we've read in\n",
    "* remove unwanted rows\n",
    "\n",
    "____________________________________________________________________________________\n",
    "\n",
    "\n",
    "### Learning goals:\n",
    "\n",
    "By the end of this tutorial, you will be able to do the following things. (Don't worry if you don't know what all these things are yet; we'll get there together!)\n",
    "\n",
    "* [Be familiar with basic concepts: functions, variables, data types and vectors](https://www.kaggle.com/rtatman/getting-started-in-r-first-steps/)\n",
    "* [Load data into R](https://www.kaggle.com/rtatman/getting-started-in-r-load-data-into-r)\n",
    "* [Summerize your data](https://www.kaggle.com/rtatman/getting-started-in-r-summarize-data)\n",
    "* [Graph data](https://www.kaggle.com/rtatman/getting-started-in-r-graphing-data/)\n",
    "\n",
    "______\n",
    "\n",
    "### Your turn!\n",
    "\n",
    "Throughout this tutorial, you'll have lots of opportunities to practice what you've just learned. Look for the phrase \"your turn!\" to find these exercises."
   ]
  },
  {
   "cell_type": "markdown",
   "id": "d2b0cbf5",
   "metadata": {
    "_cell_guid": "97e50be4-e6db-4701-a978-ddd3fc24a80e",
    "_uuid": "620ded751819b200ca7461814daa1b4fd1403903",
    "papermill": {
     "duration": 0.004557,
     "end_time": "2023-04-11T02:10:29.538293",
     "exception": false,
     "start_time": "2023-04-11T02:10:29.533736",
     "status": "completed"
    },
    "tags": []
   },
   "source": [
    "## Reading data into R\n"
   ]
  },
  {
   "cell_type": "markdown",
   "id": "5f61c553",
   "metadata": {
    "_cell_guid": "ef9bb176-bf6c-4d19-a353-84f2a28b282e",
    "_uuid": "5a37bd20dc4a6fa1ad95d14d50fbbb8d91772bee",
    "papermill": {
     "duration": 0.004537,
     "end_time": "2023-04-11T02:10:29.547574",
     "exception": false,
     "start_time": "2023-04-11T02:10:29.543037",
     "status": "completed"
    },
    "tags": []
   },
   "source": [
    "When you read data into R, you need to tell it two things. The first is what type of data structure the data is in. The second is where to find the data.\n",
    "\n",
    "> Data structure: A specfic way of organizing data to store it. There are lots of different types of data structures that you will learn about, including lists and trees. Vectors, which we talked about in the \"First Steps\" part of the tutorial, are a specific data structure.\n",
    "\n",
    "For this tutorial, we're going to use the data_frame data structure (also called a tibble). If you're curious, you can find more information on these [here](https://cran.r-project.org/web/packages/tibble/vignettes/tibble.html). However, this data structure isn't one that comes with base R. To use this data structure, we're going to need to use  a package."
   ]
  },
  {
   "cell_type": "code",
   "execution_count": 1,
   "id": "91809531",
   "metadata": {
    "_cell_guid": "14b3f40f-85d5-4ba0-9533-75f65c1e0615",
    "_uuid": "16b25ec029df1bc05f5b3882f9bd92f14a84f970",
    "execution": {
     "iopub.execute_input": "2023-04-11T02:10:29.560760Z",
     "iopub.status.busy": "2023-04-11T02:10:29.558849Z",
     "iopub.status.idle": "2023-04-11T02:10:30.736040Z",
     "shell.execute_reply": "2023-04-11T02:10:30.734157Z"
    },
    "papermill": {
     "duration": 1.18714,
     "end_time": "2023-04-11T02:10:30.739319",
     "exception": false,
     "start_time": "2023-04-11T02:10:29.552179",
     "status": "completed"
    },
    "tags": []
   },
   "outputs": [
    {
     "name": "stderr",
     "output_type": "stream",
     "text": [
      "── \u001b[1mAttaching core tidyverse packages\u001b[22m ──────────────────────── tidyverse 2.0.0 ──\n",
      "\u001b[32m✔\u001b[39m \u001b[34mdplyr    \u001b[39m 1.1.0     \u001b[32m✔\u001b[39m \u001b[34mreadr    \u001b[39m 2.1.4\n",
      "\u001b[32m✔\u001b[39m \u001b[34mforcats  \u001b[39m 1.0.0     \u001b[32m✔\u001b[39m \u001b[34mstringr  \u001b[39m 1.5.0\n",
      "\u001b[32m✔\u001b[39m \u001b[34mggplot2  \u001b[39m 3.4.1     \u001b[32m✔\u001b[39m \u001b[34mtibble   \u001b[39m 3.1.8\n",
      "\u001b[32m✔\u001b[39m \u001b[34mlubridate\u001b[39m 1.9.2     \u001b[32m✔\u001b[39m \u001b[34mtidyr    \u001b[39m 1.3.0\n",
      "\u001b[32m✔\u001b[39m \u001b[34mpurrr    \u001b[39m 1.0.1     \n",
      "── \u001b[1mConflicts\u001b[22m ────────────────────────────────────────── tidyverse_conflicts() ──\n",
      "\u001b[31m✖\u001b[39m \u001b[34mdplyr\u001b[39m::\u001b[32mfilter()\u001b[39m masks \u001b[34mstats\u001b[39m::filter()\n",
      "\u001b[31m✖\u001b[39m \u001b[34mdplyr\u001b[39m::\u001b[32mlag()\u001b[39m    masks \u001b[34mstats\u001b[39m::lag()\n",
      "\u001b[36mℹ\u001b[39m Use the conflicted package (\u001b[3m\u001b[34m<http://conflicted.r-lib.org/>\u001b[39m\u001b[23m) to force all conflicts to become errors\n"
     ]
    }
   ],
   "source": [
    "# this line will read in the \"tidyverse\" package. An R package is a collection\n",
    "# of special functions (and sometimes data). Before you use can use the functions in a\n",
    "# package, though, you need to tell R that you want it to use that package using the\n",
    "# library() function.\n",
    "\n",
    "library(tidyverse)"
   ]
  },
  {
   "cell_type": "markdown",
   "id": "38044229",
   "metadata": {
    "_cell_guid": "77acb30b-253b-4ab4-af5b-21c130cda200",
    "_uuid": "8203c7c42d0d3656b96beb45934711102687e7c7",
    "papermill": {
     "duration": 0.005074,
     "end_time": "2023-04-11T02:10:30.749695",
     "exception": false,
     "start_time": "2023-04-11T02:10:30.744621",
     "status": "completed"
    },
    "tags": []
   },
   "source": [
    "Alright, now that we've read in the package we need, we're ready to read in data. We can do this using the read_csv() function (which was in the package we just read in--if you try to use this function without loading the package using library() first, you'll get an error!).\n",
    "\n",
    "Let's read  in our file. This file is a .csv file. \"csv\" stands for \"comma separated values\". You can save any spreadsheet at a .csv file, and that will make it easier to read and analyze later: many file types that you can save spreadsheets as can only be read by one specific program. A .csv can be read by pretty much any program.\n",
    "\n",
    "For this tutorial, we'll be using a dataset of ratings of different chocolate bars. You can learn more about this dataset by clicking on the plus sign (+) next to \"input files\" at the top of the page."
   ]
  },
  {
   "cell_type": "code",
   "execution_count": 2,
   "id": "fdf30a0d",
   "metadata": {
    "_cell_guid": "6beb2066-bfa5-49ac-8e11-2f3c99df435e",
    "_uuid": "66a7d34d60fcc54bfd8ad7f1826c563ddb08ee4a",
    "execution": {
     "iopub.execute_input": "2023-04-11T02:10:30.791107Z",
     "iopub.status.busy": "2023-04-11T02:10:30.761511Z",
     "iopub.status.idle": "2023-04-11T02:10:31.087574Z",
     "shell.execute_reply": "2023-04-11T02:10:31.085816Z"
    },
    "papermill": {
     "duration": 0.335164,
     "end_time": "2023-04-11T02:10:31.089886",
     "exception": false,
     "start_time": "2023-04-11T02:10:30.754722",
     "status": "completed"
    },
    "tags": []
   },
   "outputs": [
    {
     "name": "stderr",
     "output_type": "stream",
     "text": [
      "\u001b[1mRows: \u001b[22m\u001b[34m1795\u001b[39m \u001b[1mColumns: \u001b[22m\u001b[34m9\u001b[39m\n",
      "\u001b[36m──\u001b[39m \u001b[1mColumn specification\u001b[22m \u001b[36m────────────────────────────────────────────────────────\u001b[39m\n",
      "\u001b[1mDelimiter:\u001b[22m \",\"\n",
      "\u001b[31mchr\u001b[39m (6): Company \n",
      "(Maker-if known), Specific Bean Origin\n",
      "or Bar Name, Cocoa\n",
      "...\n",
      "\u001b[32mdbl\u001b[39m (3): REF, Review\n",
      "Date, Rating\n",
      "\n",
      "\u001b[36mℹ\u001b[39m Use `spec()` to retrieve the full column specification for this data.\n",
      "\u001b[36mℹ\u001b[39m Specify the column types or set `show_col_types = FALSE` to quiet this message.\n"
     ]
    }
   ],
   "source": [
    "# Read our data into R. The argument here is a file path. The \"..\" means \"look at the \n",
    "# folder above this one\", \"input\" is a specific folder, \"chocolate-bar-ratings\" is\n",
    "# a folder wihtin the \"input\" folder, and and \"flavors_of_cacao.csv\" is \n",
    "# the specific file we're reading from inside that file.\n",
    "\n",
    "chocolateData <- read_csv(\"../input/chocolate-bar-ratings/flavors_of_cacao.csv\")\n",
    "\n",
    "# some of our column names have spaces in them. This line changes the column names to \n",
    "# versions without spaces, which let's us talk about the columns by their names.\n",
    "names(chocolateData) <- make.names(names(chocolateData), unique=TRUE)"
   ]
  },
  {
   "cell_type": "code",
   "execution_count": 3,
   "id": "fdee463b",
   "metadata": {
    "_cell_guid": "dca5cba4-5cdd-47bb-adce-3c0c8f6edfad",
    "_uuid": "54aca9c4d0a06f234af0d1e27181505474a323d3",
    "execution": {
     "iopub.execute_input": "2023-04-11T02:10:31.104177Z",
     "iopub.status.busy": "2023-04-11T02:10:31.102578Z",
     "iopub.status.idle": "2023-04-11T02:10:31.537419Z",
     "shell.execute_reply": "2023-04-11T02:10:31.535722Z"
    },
    "papermill": {
     "duration": 0.447468,
     "end_time": "2023-04-11T02:10:31.542932",
     "exception": false,
     "start_time": "2023-04-11T02:10:31.095464",
     "status": "completed"
    },
    "tags": []
   },
   "outputs": [
    {
     "name": "stderr",
     "output_type": "stream",
     "text": [
      "\u001b[1m\u001b[22mNew names:\n",
      "\u001b[36m•\u001b[39m `comfort_food_reasons_coded` -> `comfort_food_reasons_coded...10`\n",
      "\u001b[36m•\u001b[39m `comfort_food_reasons_coded` -> `comfort_food_reasons_coded...12`\n",
      "\u001b[1mRows: \u001b[22m\u001b[34m125\u001b[39m \u001b[1mColumns: \u001b[22m\u001b[34m61\u001b[39m\n",
      "\u001b[36m──\u001b[39m \u001b[1mColumn specification\u001b[22m \u001b[36m────────────────────────────────────────────────────────\u001b[39m\n",
      "\u001b[1mDelimiter:\u001b[22m \",\"\n",
      "\u001b[31mchr\u001b[39m (14): GPA, comfort_food, comfort_food_reasons, diet_current, eating_chan...\n",
      "\u001b[32mdbl\u001b[39m (47): Gender, breakfast, calories_chicken, calories_day, calories_scone,...\n",
      "\n",
      "\u001b[36mℹ\u001b[39m Use `spec()` to retrieve the full column specification for this data.\n",
      "\u001b[36mℹ\u001b[39m Specify the column types or set `show_col_types = FALSE` to quiet this message.\n"
     ]
    },
    {
     "data": {
      "text/html": [
       "<table class=\"dataframe\">\n",
       "<caption>A spec_tbl_df: 125 × 61</caption>\n",
       "<thead>\n",
       "\t<tr><th scope=col>GPA</th><th scope=col>Gender</th><th scope=col>breakfast</th><th scope=col>calories_chicken</th><th scope=col>calories_day</th><th scope=col>calories_scone</th><th scope=col>coffee</th><th scope=col>comfort_food</th><th scope=col>comfort_food_reasons</th><th scope=col>comfort_food_reasons_coded...10</th><th scope=col>⋯</th><th scope=col>soup</th><th scope=col>sports</th><th scope=col>thai_food</th><th scope=col>tortilla_calories</th><th scope=col>turkey_calories</th><th scope=col>type_sports</th><th scope=col>veggies_day</th><th scope=col>vitamins</th><th scope=col>waffle_calories</th><th scope=col>weight</th></tr>\n",
       "\t<tr><th scope=col>&lt;chr&gt;</th><th scope=col>&lt;dbl&gt;</th><th scope=col>&lt;dbl&gt;</th><th scope=col>&lt;dbl&gt;</th><th scope=col>&lt;dbl&gt;</th><th scope=col>&lt;dbl&gt;</th><th scope=col>&lt;dbl&gt;</th><th scope=col>&lt;chr&gt;</th><th scope=col>&lt;chr&gt;</th><th scope=col>&lt;dbl&gt;</th><th scope=col>⋯</th><th scope=col>&lt;dbl&gt;</th><th scope=col>&lt;dbl&gt;</th><th scope=col>&lt;dbl&gt;</th><th scope=col>&lt;dbl&gt;</th><th scope=col>&lt;dbl&gt;</th><th scope=col>&lt;chr&gt;</th><th scope=col>&lt;dbl&gt;</th><th scope=col>&lt;dbl&gt;</th><th scope=col>&lt;dbl&gt;</th><th scope=col>&lt;chr&gt;</th></tr>\n",
       "</thead>\n",
       "<tbody>\n",
       "\t<tr><td>2.4  </td><td>2</td><td>1</td><td>430</td><td>NaN</td><td>315</td><td>1</td><td>none                                                    </td><td>we dont have comfort                                                                                                             </td><td>9</td><td>⋯</td><td>1</td><td>  1</td><td>1</td><td>1165</td><td>345</td><td>car racing           </td><td>5</td><td>1</td><td>1315</td><td>187                    </td></tr>\n",
       "\t<tr><td>3.654</td><td>1</td><td>1</td><td>610</td><td>  3</td><td>420</td><td>2</td><td>chocolate, chips, ice cream                             </td><td>Stress, bored, anger                                                                                                             </td><td>1</td><td>⋯</td><td>1</td><td>  1</td><td>2</td><td> 725</td><td>690</td><td>Basketball           </td><td>4</td><td>2</td><td> 900</td><td>155                    </td></tr>\n",
       "\t<tr><td>3.3  </td><td>1</td><td>1</td><td>720</td><td>  4</td><td>420</td><td>2</td><td>frozen yogurt, pizza, fast food                         </td><td>stress, sadness                                                                                                                  </td><td>1</td><td>⋯</td><td>1</td><td>  2</td><td>5</td><td>1165</td><td>500</td><td>none                 </td><td>5</td><td>1</td><td> 900</td><td>I'm not answering this.</td></tr>\n",
       "\t<tr><td>3.2  </td><td>1</td><td>1</td><td>430</td><td>  3</td><td>420</td><td>2</td><td>Pizza, Mac and cheese, ice cream                        </td><td>Boredom                                                                                                                          </td><td>2</td><td>⋯</td><td>1</td><td>  2</td><td>5</td><td> 725</td><td>690</td><td>nan                  </td><td>3</td><td>1</td><td>1315</td><td>Not sure, 240          </td></tr>\n",
       "\t<tr><td>3.5  </td><td>1</td><td>1</td><td>720</td><td>  2</td><td>420</td><td>2</td><td>Ice cream, chocolate, chips                             </td><td>Stress, boredom, cravings                                                                                                        </td><td>1</td><td>⋯</td><td>1</td><td>  1</td><td>4</td><td> 940</td><td>500</td><td>Softball             </td><td>4</td><td>2</td><td> 760</td><td>190                    </td></tr>\n",
       "\t<tr><td>2.25 </td><td>1</td><td>1</td><td>610</td><td>  3</td><td>980</td><td>2</td><td>Candy, brownies and soda.                               </td><td>None, i don't eat comfort food. I just eat when i'm hungry.                                                                      </td><td>4</td><td>⋯</td><td>1</td><td>  2</td><td>4</td><td> 940</td><td>345</td><td>None.                </td><td>1</td><td>2</td><td>1315</td><td>190                    </td></tr>\n",
       "\t<tr><td>3.8  </td><td>2</td><td>1</td><td>610</td><td>  3</td><td>420</td><td>2</td><td>Chocolate, ice cream, french fries, pretzels            </td><td>stress, boredom                                                                                                                  </td><td>1</td><td>⋯</td><td>1</td><td>  1</td><td>5</td><td> 940</td><td>690</td><td>soccer               </td><td>4</td><td>1</td><td>1315</td><td>180                    </td></tr>\n",
       "\t<tr><td>3.3  </td><td>1</td><td>1</td><td>720</td><td>  3</td><td>420</td><td>1</td><td>Ice cream, cheeseburgers, chips.                        </td><td>I eat comfort food when im stressed out from school(finals week), when I`m sad, or when i am dealing with personal family issues.</td><td>1</td><td>⋯</td><td>1</td><td>  2</td><td>1</td><td> 725</td><td>500</td><td>none                 </td><td>4</td><td>2</td><td>1315</td><td>137                    </td></tr>\n",
       "\t<tr><td>3.3  </td><td>1</td><td>1</td><td>430</td><td>NaN</td><td>420</td><td>1</td><td>Donuts, ice cream, chips                                </td><td>Boredom                                                                                                                          </td><td>2</td><td>⋯</td><td>2</td><td>  2</td><td>5</td><td> 725</td><td>345</td><td>none                 </td><td>3</td><td>2</td><td> 760</td><td>180                    </td></tr>\n",
       "\t<tr><td>3.3  </td><td>1</td><td>1</td><td>430</td><td>  3</td><td>315</td><td>2</td><td>Mac and cheese, chocolate, and pasta                    </td><td>Stress, anger and sadness                                                                                                        </td><td>1</td><td>⋯</td><td>1</td><td>  1</td><td>4</td><td> 580</td><td>345</td><td>field hockey         </td><td>5</td><td>1</td><td> 900</td><td>125                    </td></tr>\n",
       "\t<tr><td>3.5  </td><td>1</td><td>1</td><td>610</td><td>  3</td><td>980</td><td>2</td><td>Pasta, grandma homemade chocolate cake anything homemade</td><td>Boredom                                                                                                                          </td><td>2</td><td>⋯</td><td>1</td><td>  1</td><td>2</td><td> 940</td><td>345</td><td>soccer               </td><td>5</td><td>2</td><td> 900</td><td>116                    </td></tr>\n",
       "\t<tr><td>3.904</td><td>1</td><td>1</td><td>720</td><td>  4</td><td>420</td><td>2</td><td>chocolate, pasta, soup, chips, popcorn                  </td><td>sadness, stress, cold weather                                                                                                    </td><td>3</td><td>⋯</td><td>1</td><td>  1</td><td>5</td><td> 940</td><td>500</td><td>Running              </td><td>5</td><td>1</td><td> 900</td><td>110                    </td></tr>\n",
       "\t<tr><td>3.4  </td><td>2</td><td>1</td><td>430</td><td>  3</td><td>420</td><td>2</td><td>Cookies, popcorn, and chips                             </td><td>Sadness, boredom, late night snack                                                                                               </td><td>3</td><td>⋯</td><td>2</td><td>  1</td><td>3</td><td> 940</td><td>500</td><td>Soccer and basketball</td><td>3</td><td>2</td><td> 575</td><td>264                    </td></tr>\n",
       "\t<tr><td>3.6  </td><td>1</td><td>1</td><td>610</td><td>  3</td><td>420</td><td>2</td><td>ice cream, cake, chocolate                              </td><td>stress,  boredom, special occasions                                                                                              </td><td>1</td><td>⋯</td><td>1</td><td>  1</td><td>5</td><td>1165</td><td>850</td><td>intramural volleyball</td><td>5</td><td>2</td><td>1315</td><td>123                    </td></tr>\n",
       "\t<tr><td>3.1  </td><td>2</td><td>1</td><td>610</td><td>  3</td><td>420</td><td>2</td><td>Pizza, fruit, spaghetti, chicken and Potatoes           </td><td>Friends, environment and boredom                                                                                                 </td><td>2</td><td>⋯</td><td>1</td><td>  1</td><td>4</td><td> 940</td><td>500</td><td>Hockey               </td><td>5</td><td>1</td><td> 900</td><td>185                    </td></tr>\n",
       "\t<tr><td>nan  </td><td>2</td><td>2</td><td>430</td><td>NaN</td><td>980</td><td>2</td><td>cookies, donuts, candy bars                             </td><td>boredom                                                                                                                          </td><td>2</td><td>⋯</td><td>2</td><td>  1</td><td>1</td><td> 940</td><td>345</td><td>Hockey               </td><td>1</td><td>2</td><td>1315</td><td>180                    </td></tr>\n",
       "\t<tr><td>4    </td><td>1</td><td>1</td><td>265</td><td>  3</td><td>420</td><td>1</td><td>Saltfish, Candy and Kit Kat                             </td><td>Stress                                                                                                                           </td><td>1</td><td>⋯</td><td>1</td><td>  2</td><td>1</td><td> 580</td><td>345</td><td>nan                  </td><td>5</td><td>1</td><td> 760</td><td>145                    </td></tr>\n",
       "\t<tr><td>3.6  </td><td>2</td><td>1</td><td>430</td><td>  3</td><td>980</td><td>2</td><td>chips, cookies, ice cream                               </td><td>I usually only eat comfort food when I'm bored, if i am doing something, i can go for hours without eating                       </td><td>2</td><td>⋯</td><td>1</td><td>  1</td><td>3</td><td> 940</td><td>500</td><td>hockey               </td><td>4</td><td>2</td><td> 900</td><td>170                    </td></tr>\n",
       "\t<tr><td>3.4  </td><td>1</td><td>1</td><td>720</td><td>  3</td><td>980</td><td>1</td><td>Chocolate, ice crea                                     </td><td>Sadness, stress                                                                                                                  </td><td>3</td><td>⋯</td><td>2</td><td>  2</td><td>1</td><td>1165</td><td>690</td><td>dancing              </td><td>5</td><td>1</td><td>1315</td><td>135                    </td></tr>\n",
       "\t<tr><td>2.2  </td><td>2</td><td>1</td><td>430</td><td>  2</td><td>420</td><td>2</td><td>pizza, wings, Chinese                                   </td><td>boredom, sadness, hungry                                                                                                         </td><td>2</td><td>⋯</td><td>1</td><td>NaN</td><td>3</td><td> 940</td><td>345</td><td>basketball           </td><td>2</td><td>2</td><td> 900</td><td>165                    </td></tr>\n",
       "\t<tr><td>3.3  </td><td>2</td><td>1</td><td>610</td><td>  3</td><td>980</td><td>2</td><td>Fast food, pizza, subs                                  </td><td>happiness, satisfaction                                                                                                          </td><td>7</td><td>⋯</td><td>1</td><td>  1</td><td>1</td><td>1165</td><td>850</td><td>Soccer               </td><td>3</td><td>2</td><td>1315</td><td>175                    </td></tr>\n",
       "\t<tr><td>3.87 </td><td>2</td><td>1</td><td>610</td><td>  3</td><td>315</td><td>1</td><td>chocolate, sweets, ice cream                            </td><td>Mostly boredom                                                                                                                   </td><td>2</td><td>⋯</td><td>2</td><td>  1</td><td>5</td><td> 725</td><td>500</td><td>Tennis               </td><td>2</td><td>2</td><td> 900</td><td>195                    </td></tr>\n",
       "\t<tr><td>3.7  </td><td>2</td><td>1</td><td>610</td><td>  3</td><td>420</td><td>1</td><td>burgers, chips, cookies                                 </td><td>sadness, depression                                                                                                              </td><td>3</td><td>⋯</td><td>1</td><td>  1</td><td>4</td><td> 940</td><td>850</td><td>tennis soccer gym    </td><td>3</td><td>1</td><td>1315</td><td>185                    </td></tr>\n",
       "\t<tr><td>3.7  </td><td>2</td><td>2</td><td>610</td><td>  3</td><td>420</td><td>2</td><td>Chilli, soup, pot pie                                   </td><td>Stress and boredom                                                                                                               </td><td>1</td><td>⋯</td><td>1</td><td>  1</td><td>4</td><td> 940</td><td>690</td><td>Gaelic Football      </td><td>4</td><td>1</td><td>1315</td><td>185                    </td></tr>\n",
       "\t<tr><td>3.9  </td><td>1</td><td>1</td><td>720</td><td>  2</td><td>420</td><td>2</td><td>Soup, pasta, brownies, cake                             </td><td>A long day, not feeling well, winter                                                                                             </td><td>6</td><td>⋯</td><td>2</td><td>  2</td><td>4</td><td> 940</td><td>500</td><td>none                 </td><td>4</td><td>2</td><td>1315</td><td>105                    </td></tr>\n",
       "\t<tr><td>2.8  </td><td>1</td><td>2</td><td>720</td><td>  3</td><td>420</td><td>2</td><td>chocolate, ice cream/milkshake, cookies                 </td><td>boredom                                                                                                                          </td><td>2</td><td>⋯</td><td>1</td><td>  1</td><td>3</td><td>1165</td><td>690</td><td>Ice hockey           </td><td>3</td><td>2</td><td> 760</td><td>125                    </td></tr>\n",
       "\t<tr><td>3.7  </td><td>2</td><td>1</td><td>610</td><td>  2</td><td>420</td><td>1</td><td>Chips, ice cream, microwaveable foods                   </td><td>Boredom, lazyniss                                                                                                                </td><td>2</td><td>⋯</td><td>2</td><td>  1</td><td>2</td><td>1165</td><td>850</td><td>Hockey               </td><td>3</td><td>2</td><td>1315</td><td>160                    </td></tr>\n",
       "\t<tr><td>3    </td><td>2</td><td>1</td><td>610</td><td>  4</td><td>980</td><td>2</td><td>Chicken fingers, pizza                                  </td><td>Boredom                                                                                                                          </td><td>2</td><td>⋯</td><td>1</td><td>  1</td><td>3</td><td>1165</td><td>500</td><td>Lacrosse             </td><td>5</td><td>1</td><td>1315</td><td>175                    </td></tr>\n",
       "\t<tr><td>3.2  </td><td>2</td><td>1</td><td>610</td><td>  2</td><td>420</td><td>2</td><td>cookies, hot chocolate, beef jerky                      </td><td>survival, bored                                                                                                                  </td><td>2</td><td>⋯</td><td>1</td><td>  2</td><td>1</td><td> 940</td><td>500</td><td>nan                  </td><td>2</td><td>1</td><td>1315</td><td>180                    </td></tr>\n",
       "\t<tr><td>3.5  </td><td>2</td><td>1</td><td>265</td><td>  2</td><td>420</td><td>2</td><td>Tomato soup, pizza, Fritos, Meatball sub, Dr. Pepper    </td><td>Boredom, anger, drunkeness                                                                                                       </td><td>2</td><td>⋯</td><td>1</td><td>  2</td><td>5</td><td> 580</td><td>500</td><td>nan                  </td><td>4</td><td>1</td><td> 760</td><td>167                    </td></tr>\n",
       "\t<tr><td>⋮</td><td>⋮</td><td>⋮</td><td>⋮</td><td>⋮</td><td>⋮</td><td>⋮</td><td>⋮</td><td>⋮</td><td>⋮</td><td>⋱</td><td>⋮</td><td>⋮</td><td>⋮</td><td>⋮</td><td>⋮</td><td>⋮</td><td>⋮</td><td>⋮</td><td>⋮</td><td>⋮</td></tr>\n",
       "\t<tr><td>3.5    </td><td>2</td><td>1</td><td>265</td><td>NaN</td><td>420</td><td>2</td><td>Doritos, mac and cheese, ice cream                                                               </td><td>Boredom, hunger, snacking.                                                        </td><td> 2</td><td>⋯</td><td>2</td><td>  1</td><td>4</td><td>1165</td><td>690</td><td>Wrestling                                                  </td><td>4</td><td>2</td><td>1315</td><td>184</td></tr>\n",
       "\t<tr><td>3.92   </td><td>2</td><td>1</td><td>430</td><td>  3</td><td>420</td><td>2</td><td>Ice cream, cake, pop, pizza, and milkshakes.                                                     </td><td>Happiness, sadness, celebration.                                                  </td><td> 7</td><td>⋯</td><td>1</td><td>  2</td><td>3</td><td> 725</td><td>500</td><td>Soccer                                                     </td><td>2</td><td>1</td><td> 900</td><td>210</td></tr>\n",
       "\t<tr><td>3.9    </td><td>1</td><td>1</td><td>720</td><td>  3</td><td>420</td><td>2</td><td>Mac and Cheese, Pizza, Ice Cream and French Fries                                                </td><td>Boredom, anger and just being hungry in general.                                  </td><td> 2</td><td>⋯</td><td>1</td><td>  1</td><td>3</td><td>1165</td><td>500</td><td>Running                                                    </td><td>5</td><td>2</td><td> 760</td><td>155</td></tr>\n",
       "\t<tr><td>3.9    </td><td>2</td><td>1</td><td>720</td><td>  3</td><td>315</td><td>1</td><td>Soup, pasta, cake                                                                                </td><td>Depression, comfort, accessibility                                                </td><td> 3</td><td>⋯</td><td>1</td><td>  1</td><td>5</td><td>1165</td><td>690</td><td>Tennis                                                     </td><td>4</td><td>1</td><td>1315</td><td>185</td></tr>\n",
       "\t<tr><td><span style=white-space:pre-wrap>3.2    </span></td><td>1</td><td>1</td><td>430</td><td><span style=white-space:pre-wrap>  4</span></td><td>420</td><td>1</td><td><span style=white-space:pre-wrap>mac &amp; cheese, frosted brownies, chicken nuggs                                                    </span></td><td><span style=white-space:pre-wrap>they are yummy, my boyfriend sometimes makes me sad, boredom                      </span></td><td> 3</td><td>⋯</td><td>1</td><td><span style=white-space:pre-wrap>  1</span></td><td>1</td><td>1165</td><td>690</td><td><span style=white-space:pre-wrap>softball                                                   </span></td><td>5</td><td>1</td><td> 900</td><td>165</td></tr>\n",
       "\t<tr><td>3.5    </td><td>1</td><td>1</td><td>610</td><td>  3</td><td>NaN</td><td>2</td><td>watermelon, grapes, ice cream                                                                    </td><td>Sad, bored, excited                                                               </td><td> 3</td><td>⋯</td><td>1</td><td>  1</td><td>5</td><td> NaN</td><td>500</td><td>Volleyball, Track                                          </td><td>5</td><td>2</td><td> 900</td><td>125</td></tr>\n",
       "\t<tr><td>3.4    </td><td>1</td><td>1</td><td>610</td><td>NaN</td><td>420</td><td>2</td><td>macaroni and cheese, stuffed peppers, hamburgers, french fries                                   </td><td>boredom, stress, mood swings                                                      </td><td> 2</td><td>⋯</td><td>1</td><td>  2</td><td>3</td><td>1165</td><td>500</td><td>nan                                                        </td><td>5</td><td>2</td><td>1315</td><td>160</td></tr>\n",
       "\t<tr><td>nan    </td><td>1</td><td>1</td><td>610</td><td>  4</td><td>420</td><td>2</td><td>Pizza, mashed potatoes, spaghetti                                                                </td><td>Anger, sadness                                                                    </td><td> 3</td><td>⋯</td><td>1</td><td>  2</td><td>2</td><td> 940</td><td>500</td><td>nan                                                        </td><td>5</td><td>1</td><td> 900</td><td>135</td></tr>\n",
       "\t<tr><td>3.7    </td><td>1</td><td>1</td><td>610</td><td>  3</td><td>420</td><td>2</td><td>dark chocolate, terra chips, reese's cups(dark chocolate), and bread/crackers with cottage cheese</td><td>Anxiousness, watching TV I desire \"comfort food\"                                  </td><td> 8</td><td>⋯</td><td>1</td><td>  2</td><td>3</td><td> 725</td><td>345</td><td>When I can, rarely though play pool, darts, and basketball.</td><td>5</td><td>1</td><td> 760</td><td>130</td></tr>\n",
       "\t<tr><td>Unknown</td><td>1</td><td>1</td><td>720</td><td>  3</td><td>420</td><td>2</td><td>Chips, chocolate, ,mozzarella sticks                                                             </td><td>Boredom, sadness, anxiety                                                         </td><td> 2</td><td>⋯</td><td>2</td><td>  2</td><td>5</td><td> 940</td><td>690</td><td>None at the moment                                         </td><td>5</td><td>1</td><td>1315</td><td>230</td></tr>\n",
       "\t<tr><td>3      </td><td>1</td><td>1</td><td>720</td><td>  3</td><td>420</td><td>2</td><td>ice cream, chips, candy                                                                          </td><td>Boredom, laziness, anger                                                          </td><td> 2</td><td>⋯</td><td>2</td><td>  1</td><td>3</td><td>1165</td><td>690</td><td>volleyball                                                 </td><td>2</td><td>2</td><td>1315</td><td>125</td></tr>\n",
       "\t<tr><td>3      </td><td>1</td><td>1</td><td>430</td><td>  3</td><td>315</td><td>2</td><td>Pizza, soda, chocolate brownie, chicken tikka masala and butter naan                             </td><td>Stress and sadness                                                                </td><td>NA</td><td>⋯</td><td>1</td><td>  2</td><td>4</td><td> 580</td><td>500</td><td>None                                                       </td><td>5</td><td>2</td><td> 760</td><td>130</td></tr>\n",
       "\t<tr><td>3.8    </td><td>1</td><td>1</td><td>430</td><td>  3</td><td>420</td><td>1</td><td>Chocolate, Pasta, Cookies                                                                        </td><td>I am always stressed out, and bored when I am in my apartment.                    </td><td>NA</td><td>⋯</td><td>1</td><td>  2</td><td>5</td><td>1165</td><td>690</td><td>I used to play softball                                    </td><td>4</td><td>2</td><td> 900</td><td>165</td></tr>\n",
       "\t<tr><td>3.8    </td><td>1</td><td>1</td><td>430</td><td>  2</td><td>420</td><td>2</td><td>Candy, salty snacks, toast                                                                       </td><td>Stress, sadness, boredom                                                          </td><td>NA</td><td>⋯</td><td>1</td><td>  1</td><td>2</td><td> 580</td><td>345</td><td>Ice hockey                                                 </td><td>5</td><td>2</td><td> 760</td><td>128</td></tr>\n",
       "\t<tr><td>3.4    </td><td>1</td><td>1</td><td>610</td><td>  3</td><td>420</td><td>2</td><td>Mac in cheese, pizza, mozzarella sticks                                                          </td><td>Stress, frustration, self-consciousness                                           </td><td>NA</td><td>⋯</td><td>1</td><td>  2</td><td>2</td><td> 940</td><td>690</td><td>None                                                       </td><td>3</td><td>1</td><td>1315</td><td>200</td></tr>\n",
       "\t<tr><td>3.7    </td><td>1</td><td>1</td><td>610</td><td>  3</td><td>315</td><td>1</td><td>Ice-cream, pizza, chocolate                                                                      </td><td>Sadness and cravings                                                              </td><td>NA</td><td>⋯</td><td>1</td><td>  1</td><td>3</td><td> 580</td><td>690</td><td>Volleyball                                                 </td><td>3</td><td>2</td><td> 900</td><td>160</td></tr>\n",
       "\t<tr><td>2.9    </td><td>2</td><td>1</td><td>265</td><td>  2</td><td>980</td><td>2</td><td>snacks, chips,                                                                                   </td><td>boredom                                                                           </td><td>NA</td><td>⋯</td><td>1</td><td>  2</td><td>1</td><td> 725</td><td>345</td><td>nan                                                        </td><td>3</td><td>2</td><td>1315</td><td>170</td></tr>\n",
       "\t<tr><td>3.9    </td><td>1</td><td>1</td><td>610</td><td>  4</td><td>315</td><td>2</td><td>Chocolate, Ice cream, pizza                                                                      </td><td>Sadness, happiness and boredom                                                    </td><td>NA</td><td>⋯</td><td>1</td><td>  2</td><td>5</td><td> 725</td><td>500</td><td>nan                                                        </td><td>3</td><td>2</td><td> 900</td><td>129</td></tr>\n",
       "\t<tr><td>3.6    </td><td>1</td><td>1</td><td>430</td><td>  2</td><td>420</td><td>1</td><td>ice cream, pizza, Chinese food                                                                   </td><td>Boredom and sadness                                                               </td><td>NA</td><td>⋯</td><td>1</td><td>  2</td><td>2</td><td>1165</td><td>690</td><td>None                                                       </td><td>2</td><td>2</td><td> 900</td><td>170</td></tr>\n",
       "\t<tr><td>2.8    </td><td>2</td><td>1</td><td>610</td><td>  3</td><td>315</td><td>2</td><td>Burgers, indian and korean food                                                                  </td><td>sadness, happiness and hunger                                                     </td><td>NA</td><td>⋯</td><td>1</td><td>  1</td><td>5</td><td> 940</td><td>850</td><td>Tennis, Basketball                                         </td><td>3</td><td>2</td><td> 760</td><td>138</td></tr>\n",
       "\t<tr><td>3.3    </td><td>2</td><td>1</td><td>610</td><td>  4</td><td>980</td><td>2</td><td>chocolate bar, ice cream, pretzels, potato chips and protein bars.                               </td><td>Stress, boredom and physical activity                                             </td><td>NA</td><td>⋯</td><td>1</td><td>  1</td><td>1</td><td>1165</td><td>690</td><td>Hockey                                                     </td><td>2</td><td>2</td><td>1315</td><td>150</td></tr>\n",
       "\t<tr><td>3.4    </td><td>1</td><td>1</td><td>610</td><td>NaN</td><td>420</td><td>2</td><td>Ice cream, chocolate, pizza, cucumber                                                            </td><td>loneliness, homework, boredom                                                     </td><td>NA</td><td>⋯</td><td>1</td><td>  2</td><td>5</td><td> 725</td><td>345</td><td>none                                                       </td><td>5</td><td>1</td><td>1315</td><td>170</td></tr>\n",
       "\t<tr><td>3.77   </td><td>1</td><td>1</td><td>610</td><td>NaN</td><td>315</td><td>2</td><td>Noodle ( any kinds of noodle), Tuna sandwich, and Egg.                                           </td><td>When i'm  eating with my close friends/ Food smell or look good/ when I feel tired</td><td>NA</td><td>⋯</td><td>1</td><td>  2</td><td>5</td><td> 725</td><td>690</td><td>No, I don't play sport.                                    </td><td>3</td><td>1</td><td> 760</td><td>113</td></tr>\n",
       "\t<tr><td>3.63   </td><td>1</td><td>1</td><td>430</td><td>  3</td><td>420</td><td>1</td><td>Chinese, chips, cake                                                                             </td><td>Stress and boredom                                                                </td><td>NA</td><td>⋯</td><td>1</td><td>  2</td><td>4</td><td> 940</td><td>345</td><td>None                                                       </td><td>5</td><td>2</td><td>1315</td><td>140</td></tr>\n",
       "\t<tr><td>3.2    </td><td>2</td><td>1</td><td>610</td><td>  3</td><td>420</td><td>2</td><td>chips, rice, chicken curry,                                                                      </td><td>Happiness, boredom, social event                                                  </td><td>NA</td><td>⋯</td><td>1</td><td>  1</td><td>5</td><td>1165</td><td>690</td><td>Soccer                                                     </td><td>5</td><td>2</td><td>1315</td><td>185</td></tr>\n",
       "\t<tr><td>3.5    </td><td>1</td><td>1</td><td>610</td><td>  4</td><td>420</td><td>2</td><td>wine. mac and cheese, pizza, ice cream                                                           </td><td>boredom and sadness                                                               </td><td>NA</td><td>⋯</td><td>1</td><td>  1</td><td>5</td><td> 940</td><td>500</td><td>Softball                                                   </td><td>5</td><td>1</td><td>1315</td><td>156</td></tr>\n",
       "\t<tr><td>3      </td><td>1</td><td>1</td><td>265</td><td>  2</td><td>315</td><td>2</td><td>Pizza / Wings / Cheesecake                                                                       </td><td>Loneliness / Homesick / Sadness                                                   </td><td>NA</td><td>⋯</td><td>1</td><td>NaN</td><td>4</td><td> 940</td><td>500</td><td>basketball                                                 </td><td>5</td><td>2</td><td>1315</td><td>180</td></tr>\n",
       "\t<tr><td>3.882  </td><td>1</td><td>1</td><td>720</td><td>NaN</td><td>420</td><td>1</td><td>rice, potato, seaweed soup                                                                       </td><td>sadness                                                                           </td><td>NA</td><td>⋯</td><td>1</td><td>  2</td><td>5</td><td> 580</td><td>690</td><td>none                                                       </td><td>4</td><td>2</td><td>1315</td><td>120</td></tr>\n",
       "\t<tr><td>3      </td><td>2</td><td>1</td><td>720</td><td>  4</td><td>420</td><td>1</td><td>Mac n Cheese, Lasagna, Pizza                                                                     </td><td>happiness, they are some of my favorite foods                                     </td><td>NA</td><td>⋯</td><td>2</td><td>  2</td><td>1</td><td> 940</td><td>500</td><td>nan                                                        </td><td>3</td><td>1</td><td>1315</td><td>135</td></tr>\n",
       "\t<tr><td>3.9    </td><td>1</td><td>1</td><td>430</td><td>NaN</td><td>315</td><td>2</td><td>Chocolates, pizza, and Ritz.                                                                     </td><td>hormones, Premenstrual syndrome.                                                  </td><td>NA</td><td>⋯</td><td>1</td><td>  2</td><td>2</td><td> 725</td><td>345</td><td>nan                                                        </td><td>4</td><td>2</td><td> 575</td><td>135</td></tr>\n",
       "</tbody>\n",
       "</table>\n"
      ],
      "text/latex": [
       "A spec\\_tbl\\_df: 125 × 61\n",
       "\\begin{tabular}{lllllllllllllllllllll}\n",
       " GPA & Gender & breakfast & calories\\_chicken & calories\\_day & calories\\_scone & coffee & comfort\\_food & comfort\\_food\\_reasons & comfort\\_food\\_reasons\\_coded...10 & ⋯ & soup & sports & thai\\_food & tortilla\\_calories & turkey\\_calories & type\\_sports & veggies\\_day & vitamins & waffle\\_calories & weight\\\\\n",
       " <chr> & <dbl> & <dbl> & <dbl> & <dbl> & <dbl> & <dbl> & <chr> & <chr> & <dbl> & ⋯ & <dbl> & <dbl> & <dbl> & <dbl> & <dbl> & <chr> & <dbl> & <dbl> & <dbl> & <chr>\\\\\n",
       "\\hline\n",
       "\t 2.4   & 2 & 1 & 430 & NaN & 315 & 1 & none                                                     & we dont have comfort                                                                                                              & 9 & ⋯ & 1 &   1 & 1 & 1165 & 345 & car racing            & 5 & 1 & 1315 & 187                    \\\\\n",
       "\t 3.654 & 1 & 1 & 610 &   3 & 420 & 2 & chocolate, chips, ice cream                              & Stress, bored, anger                                                                                                              & 1 & ⋯ & 1 &   1 & 2 &  725 & 690 & Basketball            & 4 & 2 &  900 & 155                    \\\\\n",
       "\t 3.3   & 1 & 1 & 720 &   4 & 420 & 2 & frozen yogurt, pizza, fast food                          & stress, sadness                                                                                                                   & 1 & ⋯ & 1 &   2 & 5 & 1165 & 500 & none                  & 5 & 1 &  900 & I'm not answering this.\\\\\n",
       "\t 3.2   & 1 & 1 & 430 &   3 & 420 & 2 & Pizza, Mac and cheese, ice cream                         & Boredom                                                                                                                           & 2 & ⋯ & 1 &   2 & 5 &  725 & 690 & nan                   & 3 & 1 & 1315 & Not sure, 240          \\\\\n",
       "\t 3.5   & 1 & 1 & 720 &   2 & 420 & 2 & Ice cream, chocolate, chips                              & Stress, boredom, cravings                                                                                                         & 1 & ⋯ & 1 &   1 & 4 &  940 & 500 & Softball              & 4 & 2 &  760 & 190                    \\\\\n",
       "\t 2.25  & 1 & 1 & 610 &   3 & 980 & 2 & Candy, brownies and soda.                                & None, i don't eat comfort food. I just eat when i'm hungry.                                                                       & 4 & ⋯ & 1 &   2 & 4 &  940 & 345 & None.                 & 1 & 2 & 1315 & 190                    \\\\\n",
       "\t 3.8   & 2 & 1 & 610 &   3 & 420 & 2 & Chocolate, ice cream, french fries, pretzels             & stress, boredom                                                                                                                   & 1 & ⋯ & 1 &   1 & 5 &  940 & 690 & soccer                & 4 & 1 & 1315 & 180                    \\\\\n",
       "\t 3.3   & 1 & 1 & 720 &   3 & 420 & 1 & Ice cream, cheeseburgers, chips.                         & I eat comfort food when im stressed out from school(finals week), when I`m sad, or when i am dealing with personal family issues. & 1 & ⋯ & 1 &   2 & 1 &  725 & 500 & none                  & 4 & 2 & 1315 & 137                    \\\\\n",
       "\t 3.3   & 1 & 1 & 430 & NaN & 420 & 1 & Donuts, ice cream, chips                                 & Boredom                                                                                                                           & 2 & ⋯ & 2 &   2 & 5 &  725 & 345 & none                  & 3 & 2 &  760 & 180                    \\\\\n",
       "\t 3.3   & 1 & 1 & 430 &   3 & 315 & 2 & Mac and cheese, chocolate, and pasta                     & Stress, anger and sadness                                                                                                         & 1 & ⋯ & 1 &   1 & 4 &  580 & 345 & field hockey          & 5 & 1 &  900 & 125                    \\\\\n",
       "\t 3.5   & 1 & 1 & 610 &   3 & 980 & 2 & Pasta, grandma homemade chocolate cake anything homemade & Boredom                                                                                                                           & 2 & ⋯ & 1 &   1 & 2 &  940 & 345 & soccer                & 5 & 2 &  900 & 116                    \\\\\n",
       "\t 3.904 & 1 & 1 & 720 &   4 & 420 & 2 & chocolate, pasta, soup, chips, popcorn                   & sadness, stress, cold weather                                                                                                     & 3 & ⋯ & 1 &   1 & 5 &  940 & 500 & Running               & 5 & 1 &  900 & 110                    \\\\\n",
       "\t 3.4   & 2 & 1 & 430 &   3 & 420 & 2 & Cookies, popcorn, and chips                              & Sadness, boredom, late night snack                                                                                                & 3 & ⋯ & 2 &   1 & 3 &  940 & 500 & Soccer and basketball & 3 & 2 &  575 & 264                    \\\\\n",
       "\t 3.6   & 1 & 1 & 610 &   3 & 420 & 2 & ice cream, cake, chocolate                               & stress,  boredom, special occasions                                                                                               & 1 & ⋯ & 1 &   1 & 5 & 1165 & 850 & intramural volleyball & 5 & 2 & 1315 & 123                    \\\\\n",
       "\t 3.1   & 2 & 1 & 610 &   3 & 420 & 2 & Pizza, fruit, spaghetti, chicken and Potatoes            & Friends, environment and boredom                                                                                                  & 2 & ⋯ & 1 &   1 & 4 &  940 & 500 & Hockey                & 5 & 1 &  900 & 185                    \\\\\n",
       "\t nan   & 2 & 2 & 430 & NaN & 980 & 2 & cookies, donuts, candy bars                              & boredom                                                                                                                           & 2 & ⋯ & 2 &   1 & 1 &  940 & 345 & Hockey                & 1 & 2 & 1315 & 180                    \\\\\n",
       "\t 4     & 1 & 1 & 265 &   3 & 420 & 1 & Saltfish, Candy and Kit Kat                              & Stress                                                                                                                            & 1 & ⋯ & 1 &   2 & 1 &  580 & 345 & nan                   & 5 & 1 &  760 & 145                    \\\\\n",
       "\t 3.6   & 2 & 1 & 430 &   3 & 980 & 2 & chips, cookies, ice cream                                & I usually only eat comfort food when I'm bored, if i am doing something, i can go for hours without eating                        & 2 & ⋯ & 1 &   1 & 3 &  940 & 500 & hockey                & 4 & 2 &  900 & 170                    \\\\\n",
       "\t 3.4   & 1 & 1 & 720 &   3 & 980 & 1 & Chocolate, ice crea                                      & Sadness, stress                                                                                                                   & 3 & ⋯ & 2 &   2 & 1 & 1165 & 690 & dancing               & 5 & 1 & 1315 & 135                    \\\\\n",
       "\t 2.2   & 2 & 1 & 430 &   2 & 420 & 2 & pizza, wings, Chinese                                    & boredom, sadness, hungry                                                                                                          & 2 & ⋯ & 1 & NaN & 3 &  940 & 345 & basketball            & 2 & 2 &  900 & 165                    \\\\\n",
       "\t 3.3   & 2 & 1 & 610 &   3 & 980 & 2 & Fast food, pizza, subs                                   & happiness, satisfaction                                                                                                           & 7 & ⋯ & 1 &   1 & 1 & 1165 & 850 & Soccer                & 3 & 2 & 1315 & 175                    \\\\\n",
       "\t 3.87  & 2 & 1 & 610 &   3 & 315 & 1 & chocolate, sweets, ice cream                             & Mostly boredom                                                                                                                    & 2 & ⋯ & 2 &   1 & 5 &  725 & 500 & Tennis                & 2 & 2 &  900 & 195                    \\\\\n",
       "\t 3.7   & 2 & 1 & 610 &   3 & 420 & 1 & burgers, chips, cookies                                  & sadness, depression                                                                                                               & 3 & ⋯ & 1 &   1 & 4 &  940 & 850 & tennis soccer gym     & 3 & 1 & 1315 & 185                    \\\\\n",
       "\t 3.7   & 2 & 2 & 610 &   3 & 420 & 2 & Chilli, soup, pot pie                                    & Stress and boredom                                                                                                                & 1 & ⋯ & 1 &   1 & 4 &  940 & 690 & Gaelic Football       & 4 & 1 & 1315 & 185                    \\\\\n",
       "\t 3.9   & 1 & 1 & 720 &   2 & 420 & 2 & Soup, pasta, brownies, cake                              & A long day, not feeling well, winter                                                                                              & 6 & ⋯ & 2 &   2 & 4 &  940 & 500 & none                  & 4 & 2 & 1315 & 105                    \\\\\n",
       "\t 2.8   & 1 & 2 & 720 &   3 & 420 & 2 & chocolate, ice cream/milkshake, cookies                  & boredom                                                                                                                           & 2 & ⋯ & 1 &   1 & 3 & 1165 & 690 & Ice hockey            & 3 & 2 &  760 & 125                    \\\\\n",
       "\t 3.7   & 2 & 1 & 610 &   2 & 420 & 1 & Chips, ice cream, microwaveable foods                    & Boredom, lazyniss                                                                                                                 & 2 & ⋯ & 2 &   1 & 2 & 1165 & 850 & Hockey                & 3 & 2 & 1315 & 160                    \\\\\n",
       "\t 3     & 2 & 1 & 610 &   4 & 980 & 2 & Chicken fingers, pizza                                   & Boredom                                                                                                                           & 2 & ⋯ & 1 &   1 & 3 & 1165 & 500 & Lacrosse              & 5 & 1 & 1315 & 175                    \\\\\n",
       "\t 3.2   & 2 & 1 & 610 &   2 & 420 & 2 & cookies, hot chocolate, beef jerky                       & survival, bored                                                                                                                   & 2 & ⋯ & 1 &   2 & 1 &  940 & 500 & nan                   & 2 & 1 & 1315 & 180                    \\\\\n",
       "\t 3.5   & 2 & 1 & 265 &   2 & 420 & 2 & Tomato soup, pizza, Fritos, Meatball sub, Dr. Pepper     & Boredom, anger, drunkeness                                                                                                        & 2 & ⋯ & 1 &   2 & 5 &  580 & 500 & nan                   & 4 & 1 &  760 & 167                    \\\\\n",
       "\t ⋮ & ⋮ & ⋮ & ⋮ & ⋮ & ⋮ & ⋮ & ⋮ & ⋮ & ⋮ & ⋱ & ⋮ & ⋮ & ⋮ & ⋮ & ⋮ & ⋮ & ⋮ & ⋮ & ⋮ & ⋮\\\\\n",
       "\t 3.5     & 2 & 1 & 265 & NaN & 420 & 2 & Doritos, mac and cheese, ice cream                                                                & Boredom, hunger, snacking.                                                         &  2 & ⋯ & 2 &   1 & 4 & 1165 & 690 & Wrestling                                                   & 4 & 2 & 1315 & 184\\\\\n",
       "\t 3.92    & 2 & 1 & 430 &   3 & 420 & 2 & Ice cream, cake, pop, pizza, and milkshakes.                                                      & Happiness, sadness, celebration.                                                   &  7 & ⋯ & 1 &   2 & 3 &  725 & 500 & Soccer                                                      & 2 & 1 &  900 & 210\\\\\n",
       "\t 3.9     & 1 & 1 & 720 &   3 & 420 & 2 & Mac and Cheese, Pizza, Ice Cream and French Fries                                                 & Boredom, anger and just being hungry in general.                                   &  2 & ⋯ & 1 &   1 & 3 & 1165 & 500 & Running                                                     & 5 & 2 &  760 & 155\\\\\n",
       "\t 3.9     & 2 & 1 & 720 &   3 & 315 & 1 & Soup, pasta, cake                                                                                 & Depression, comfort, accessibility                                                 &  3 & ⋯ & 1 &   1 & 5 & 1165 & 690 & Tennis                                                      & 4 & 1 & 1315 & 185\\\\\n",
       "\t 3.2     & 1 & 1 & 430 &   4 & 420 & 1 & mac \\& cheese, frosted brownies, chicken nuggs                                                     & they are yummy, my boyfriend sometimes makes me sad, boredom                       &  3 & ⋯ & 1 &   1 & 1 & 1165 & 690 & softball                                                    & 5 & 1 &  900 & 165\\\\\n",
       "\t 3.5     & 1 & 1 & 610 &   3 & NaN & 2 & watermelon, grapes, ice cream                                                                     & Sad, bored, excited                                                                &  3 & ⋯ & 1 &   1 & 5 &  NaN & 500 & Volleyball, Track                                           & 5 & 2 &  900 & 125\\\\\n",
       "\t 3.4     & 1 & 1 & 610 & NaN & 420 & 2 & macaroni and cheese, stuffed peppers, hamburgers, french fries                                    & boredom, stress, mood swings                                                       &  2 & ⋯ & 1 &   2 & 3 & 1165 & 500 & nan                                                         & 5 & 2 & 1315 & 160\\\\\n",
       "\t nan     & 1 & 1 & 610 &   4 & 420 & 2 & Pizza, mashed potatoes, spaghetti                                                                 & Anger, sadness                                                                     &  3 & ⋯ & 1 &   2 & 2 &  940 & 500 & nan                                                         & 5 & 1 &  900 & 135\\\\\n",
       "\t 3.7     & 1 & 1 & 610 &   3 & 420 & 2 & dark chocolate, terra chips, reese's cups(dark chocolate), and bread/crackers with cottage cheese & Anxiousness, watching TV I desire \"comfort food\"                                   &  8 & ⋯ & 1 &   2 & 3 &  725 & 345 & When I can, rarely though play pool, darts, and basketball. & 5 & 1 &  760 & 130\\\\\n",
       "\t Unknown & 1 & 1 & 720 &   3 & 420 & 2 & Chips, chocolate, ,mozzarella sticks                                                              & Boredom, sadness, anxiety                                                          &  2 & ⋯ & 2 &   2 & 5 &  940 & 690 & None at the moment                                          & 5 & 1 & 1315 & 230\\\\\n",
       "\t 3       & 1 & 1 & 720 &   3 & 420 & 2 & ice cream, chips, candy                                                                           & Boredom, laziness, anger                                                           &  2 & ⋯ & 2 &   1 & 3 & 1165 & 690 & volleyball                                                  & 2 & 2 & 1315 & 125\\\\\n",
       "\t 3       & 1 & 1 & 430 &   3 & 315 & 2 & Pizza, soda, chocolate brownie, chicken tikka masala and butter naan                              & Stress and sadness                                                                 & NA & ⋯ & 1 &   2 & 4 &  580 & 500 & None                                                        & 5 & 2 &  760 & 130\\\\\n",
       "\t 3.8     & 1 & 1 & 430 &   3 & 420 & 1 & Chocolate, Pasta, Cookies                                                                         & I am always stressed out, and bored when I am in my apartment.                     & NA & ⋯ & 1 &   2 & 5 & 1165 & 690 & I used to play softball                                     & 4 & 2 &  900 & 165\\\\\n",
       "\t 3.8     & 1 & 1 & 430 &   2 & 420 & 2 & Candy, salty snacks, toast                                                                        & Stress, sadness, boredom                                                           & NA & ⋯ & 1 &   1 & 2 &  580 & 345 & Ice hockey                                                  & 5 & 2 &  760 & 128\\\\\n",
       "\t 3.4     & 1 & 1 & 610 &   3 & 420 & 2 & Mac in cheese, pizza, mozzarella sticks                                                           & Stress, frustration, self-consciousness                                            & NA & ⋯ & 1 &   2 & 2 &  940 & 690 & None                                                        & 3 & 1 & 1315 & 200\\\\\n",
       "\t 3.7     & 1 & 1 & 610 &   3 & 315 & 1 & Ice-cream, pizza, chocolate                                                                       & Sadness and cravings                                                               & NA & ⋯ & 1 &   1 & 3 &  580 & 690 & Volleyball                                                  & 3 & 2 &  900 & 160\\\\\n",
       "\t 2.9     & 2 & 1 & 265 &   2 & 980 & 2 & snacks, chips,                                                                                    & boredom                                                                            & NA & ⋯ & 1 &   2 & 1 &  725 & 345 & nan                                                         & 3 & 2 & 1315 & 170\\\\\n",
       "\t 3.9     & 1 & 1 & 610 &   4 & 315 & 2 & Chocolate, Ice cream, pizza                                                                       & Sadness, happiness and boredom                                                     & NA & ⋯ & 1 &   2 & 5 &  725 & 500 & nan                                                         & 3 & 2 &  900 & 129\\\\\n",
       "\t 3.6     & 1 & 1 & 430 &   2 & 420 & 1 & ice cream, pizza, Chinese food                                                                    & Boredom and sadness                                                                & NA & ⋯ & 1 &   2 & 2 & 1165 & 690 & None                                                        & 2 & 2 &  900 & 170\\\\\n",
       "\t 2.8     & 2 & 1 & 610 &   3 & 315 & 2 & Burgers, indian and korean food                                                                   & sadness, happiness and hunger                                                      & NA & ⋯ & 1 &   1 & 5 &  940 & 850 & Tennis, Basketball                                          & 3 & 2 &  760 & 138\\\\\n",
       "\t 3.3     & 2 & 1 & 610 &   4 & 980 & 2 & chocolate bar, ice cream, pretzels, potato chips and protein bars.                                & Stress, boredom and physical activity                                              & NA & ⋯ & 1 &   1 & 1 & 1165 & 690 & Hockey                                                      & 2 & 2 & 1315 & 150\\\\\n",
       "\t 3.4     & 1 & 1 & 610 & NaN & 420 & 2 & Ice cream, chocolate, pizza, cucumber                                                             & loneliness, homework, boredom                                                      & NA & ⋯ & 1 &   2 & 5 &  725 & 345 & none                                                        & 5 & 1 & 1315 & 170\\\\\n",
       "\t 3.77    & 1 & 1 & 610 & NaN & 315 & 2 & Noodle ( any kinds of noodle), Tuna sandwich, and Egg.                                            & When i'm  eating with my close friends/ Food smell or look good/ when I feel tired & NA & ⋯ & 1 &   2 & 5 &  725 & 690 & No, I don't play sport.                                     & 3 & 1 &  760 & 113\\\\\n",
       "\t 3.63    & 1 & 1 & 430 &   3 & 420 & 1 & Chinese, chips, cake                                                                              & Stress and boredom                                                                 & NA & ⋯ & 1 &   2 & 4 &  940 & 345 & None                                                        & 5 & 2 & 1315 & 140\\\\\n",
       "\t 3.2     & 2 & 1 & 610 &   3 & 420 & 2 & chips, rice, chicken curry,                                                                       & Happiness, boredom, social event                                                   & NA & ⋯ & 1 &   1 & 5 & 1165 & 690 & Soccer                                                      & 5 & 2 & 1315 & 185\\\\\n",
       "\t 3.5     & 1 & 1 & 610 &   4 & 420 & 2 & wine. mac and cheese, pizza, ice cream                                                            & boredom and sadness                                                                & NA & ⋯ & 1 &   1 & 5 &  940 & 500 & Softball                                                    & 5 & 1 & 1315 & 156\\\\\n",
       "\t 3       & 1 & 1 & 265 &   2 & 315 & 2 & Pizza / Wings / Cheesecake                                                                        & Loneliness / Homesick / Sadness                                                    & NA & ⋯ & 1 & NaN & 4 &  940 & 500 & basketball                                                  & 5 & 2 & 1315 & 180\\\\\n",
       "\t 3.882   & 1 & 1 & 720 & NaN & 420 & 1 & rice, potato, seaweed soup                                                                        & sadness                                                                            & NA & ⋯ & 1 &   2 & 5 &  580 & 690 & none                                                        & 4 & 2 & 1315 & 120\\\\\n",
       "\t 3       & 2 & 1 & 720 &   4 & 420 & 1 & Mac n Cheese, Lasagna, Pizza                                                                      & happiness, they are some of my favorite foods                                      & NA & ⋯ & 2 &   2 & 1 &  940 & 500 & nan                                                         & 3 & 1 & 1315 & 135\\\\\n",
       "\t 3.9     & 1 & 1 & 430 & NaN & 315 & 2 & Chocolates, pizza, and Ritz.                                                                      & hormones, Premenstrual syndrome.                                                   & NA & ⋯ & 1 &   2 & 2 &  725 & 345 & nan                                                         & 4 & 2 &  575 & 135\\\\\n",
       "\\end{tabular}\n"
      ],
      "text/markdown": [
       "\n",
       "A spec_tbl_df: 125 × 61\n",
       "\n",
       "| GPA &lt;chr&gt; | Gender &lt;dbl&gt; | breakfast &lt;dbl&gt; | calories_chicken &lt;dbl&gt; | calories_day &lt;dbl&gt; | calories_scone &lt;dbl&gt; | coffee &lt;dbl&gt; | comfort_food &lt;chr&gt; | comfort_food_reasons &lt;chr&gt; | comfort_food_reasons_coded...10 &lt;dbl&gt; | ⋯ ⋯ | soup &lt;dbl&gt; | sports &lt;dbl&gt; | thai_food &lt;dbl&gt; | tortilla_calories &lt;dbl&gt; | turkey_calories &lt;dbl&gt; | type_sports &lt;chr&gt; | veggies_day &lt;dbl&gt; | vitamins &lt;dbl&gt; | waffle_calories &lt;dbl&gt; | weight &lt;chr&gt; |\n",
       "|---|---|---|---|---|---|---|---|---|---|---|---|---|---|---|---|---|---|---|---|---|\n",
       "| 2.4   | 2 | 1 | 430 | NaN | 315 | 1 | none                                                     | we dont have comfort                                                                                                              | 9 | ⋯ | 1 |   1 | 1 | 1165 | 345 | car racing            | 5 | 1 | 1315 | 187                     |\n",
       "| 3.654 | 1 | 1 | 610 |   3 | 420 | 2 | chocolate, chips, ice cream                              | Stress, bored, anger                                                                                                              | 1 | ⋯ | 1 |   1 | 2 |  725 | 690 | Basketball            | 4 | 2 |  900 | 155                     |\n",
       "| 3.3   | 1 | 1 | 720 |   4 | 420 | 2 | frozen yogurt, pizza, fast food                          | stress, sadness                                                                                                                   | 1 | ⋯ | 1 |   2 | 5 | 1165 | 500 | none                  | 5 | 1 |  900 | I'm not answering this. |\n",
       "| 3.2   | 1 | 1 | 430 |   3 | 420 | 2 | Pizza, Mac and cheese, ice cream                         | Boredom                                                                                                                           | 2 | ⋯ | 1 |   2 | 5 |  725 | 690 | nan                   | 3 | 1 | 1315 | Not sure, 240           |\n",
       "| 3.5   | 1 | 1 | 720 |   2 | 420 | 2 | Ice cream, chocolate, chips                              | Stress, boredom, cravings                                                                                                         | 1 | ⋯ | 1 |   1 | 4 |  940 | 500 | Softball              | 4 | 2 |  760 | 190                     |\n",
       "| 2.25  | 1 | 1 | 610 |   3 | 980 | 2 | Candy, brownies and soda.                                | None, i don't eat comfort food. I just eat when i'm hungry.                                                                       | 4 | ⋯ | 1 |   2 | 4 |  940 | 345 | None.                 | 1 | 2 | 1315 | 190                     |\n",
       "| 3.8   | 2 | 1 | 610 |   3 | 420 | 2 | Chocolate, ice cream, french fries, pretzels             | stress, boredom                                                                                                                   | 1 | ⋯ | 1 |   1 | 5 |  940 | 690 | soccer                | 4 | 1 | 1315 | 180                     |\n",
       "| 3.3   | 1 | 1 | 720 |   3 | 420 | 1 | Ice cream, cheeseburgers, chips.                         | I eat comfort food when im stressed out from school(finals week), when I`m sad, or when i am dealing with personal family issues. | 1 | ⋯ | 1 |   2 | 1 |  725 | 500 | none                  | 4 | 2 | 1315 | 137                     |\n",
       "| 3.3   | 1 | 1 | 430 | NaN | 420 | 1 | Donuts, ice cream, chips                                 | Boredom                                                                                                                           | 2 | ⋯ | 2 |   2 | 5 |  725 | 345 | none                  | 3 | 2 |  760 | 180                     |\n",
       "| 3.3   | 1 | 1 | 430 |   3 | 315 | 2 | Mac and cheese, chocolate, and pasta                     | Stress, anger and sadness                                                                                                         | 1 | ⋯ | 1 |   1 | 4 |  580 | 345 | field hockey          | 5 | 1 |  900 | 125                     |\n",
       "| 3.5   | 1 | 1 | 610 |   3 | 980 | 2 | Pasta, grandma homemade chocolate cake anything homemade | Boredom                                                                                                                           | 2 | ⋯ | 1 |   1 | 2 |  940 | 345 | soccer                | 5 | 2 |  900 | 116                     |\n",
       "| 3.904 | 1 | 1 | 720 |   4 | 420 | 2 | chocolate, pasta, soup, chips, popcorn                   | sadness, stress, cold weather                                                                                                     | 3 | ⋯ | 1 |   1 | 5 |  940 | 500 | Running               | 5 | 1 |  900 | 110                     |\n",
       "| 3.4   | 2 | 1 | 430 |   3 | 420 | 2 | Cookies, popcorn, and chips                              | Sadness, boredom, late night snack                                                                                                | 3 | ⋯ | 2 |   1 | 3 |  940 | 500 | Soccer and basketball | 3 | 2 |  575 | 264                     |\n",
       "| 3.6   | 1 | 1 | 610 |   3 | 420 | 2 | ice cream, cake, chocolate                               | stress,  boredom, special occasions                                                                                               | 1 | ⋯ | 1 |   1 | 5 | 1165 | 850 | intramural volleyball | 5 | 2 | 1315 | 123                     |\n",
       "| 3.1   | 2 | 1 | 610 |   3 | 420 | 2 | Pizza, fruit, spaghetti, chicken and Potatoes            | Friends, environment and boredom                                                                                                  | 2 | ⋯ | 1 |   1 | 4 |  940 | 500 | Hockey                | 5 | 1 |  900 | 185                     |\n",
       "| nan   | 2 | 2 | 430 | NaN | 980 | 2 | cookies, donuts, candy bars                              | boredom                                                                                                                           | 2 | ⋯ | 2 |   1 | 1 |  940 | 345 | Hockey                | 1 | 2 | 1315 | 180                     |\n",
       "| 4     | 1 | 1 | 265 |   3 | 420 | 1 | Saltfish, Candy and Kit Kat                              | Stress                                                                                                                            | 1 | ⋯ | 1 |   2 | 1 |  580 | 345 | nan                   | 5 | 1 |  760 | 145                     |\n",
       "| 3.6   | 2 | 1 | 430 |   3 | 980 | 2 | chips, cookies, ice cream                                | I usually only eat comfort food when I'm bored, if i am doing something, i can go for hours without eating                        | 2 | ⋯ | 1 |   1 | 3 |  940 | 500 | hockey                | 4 | 2 |  900 | 170                     |\n",
       "| 3.4   | 1 | 1 | 720 |   3 | 980 | 1 | Chocolate, ice crea                                      | Sadness, stress                                                                                                                   | 3 | ⋯ | 2 |   2 | 1 | 1165 | 690 | dancing               | 5 | 1 | 1315 | 135                     |\n",
       "| 2.2   | 2 | 1 | 430 |   2 | 420 | 2 | pizza, wings, Chinese                                    | boredom, sadness, hungry                                                                                                          | 2 | ⋯ | 1 | NaN | 3 |  940 | 345 | basketball            | 2 | 2 |  900 | 165                     |\n",
       "| 3.3   | 2 | 1 | 610 |   3 | 980 | 2 | Fast food, pizza, subs                                   | happiness, satisfaction                                                                                                           | 7 | ⋯ | 1 |   1 | 1 | 1165 | 850 | Soccer                | 3 | 2 | 1315 | 175                     |\n",
       "| 3.87  | 2 | 1 | 610 |   3 | 315 | 1 | chocolate, sweets, ice cream                             | Mostly boredom                                                                                                                    | 2 | ⋯ | 2 |   1 | 5 |  725 | 500 | Tennis                | 2 | 2 |  900 | 195                     |\n",
       "| 3.7   | 2 | 1 | 610 |   3 | 420 | 1 | burgers, chips, cookies                                  | sadness, depression                                                                                                               | 3 | ⋯ | 1 |   1 | 4 |  940 | 850 | tennis soccer gym     | 3 | 1 | 1315 | 185                     |\n",
       "| 3.7   | 2 | 2 | 610 |   3 | 420 | 2 | Chilli, soup, pot pie                                    | Stress and boredom                                                                                                                | 1 | ⋯ | 1 |   1 | 4 |  940 | 690 | Gaelic Football       | 4 | 1 | 1315 | 185                     |\n",
       "| 3.9   | 1 | 1 | 720 |   2 | 420 | 2 | Soup, pasta, brownies, cake                              | A long day, not feeling well, winter                                                                                              | 6 | ⋯ | 2 |   2 | 4 |  940 | 500 | none                  | 4 | 2 | 1315 | 105                     |\n",
       "| 2.8   | 1 | 2 | 720 |   3 | 420 | 2 | chocolate, ice cream/milkshake, cookies                  | boredom                                                                                                                           | 2 | ⋯ | 1 |   1 | 3 | 1165 | 690 | Ice hockey            | 3 | 2 |  760 | 125                     |\n",
       "| 3.7   | 2 | 1 | 610 |   2 | 420 | 1 | Chips, ice cream, microwaveable foods                    | Boredom, lazyniss                                                                                                                 | 2 | ⋯ | 2 |   1 | 2 | 1165 | 850 | Hockey                | 3 | 2 | 1315 | 160                     |\n",
       "| 3     | 2 | 1 | 610 |   4 | 980 | 2 | Chicken fingers, pizza                                   | Boredom                                                                                                                           | 2 | ⋯ | 1 |   1 | 3 | 1165 | 500 | Lacrosse              | 5 | 1 | 1315 | 175                     |\n",
       "| 3.2   | 2 | 1 | 610 |   2 | 420 | 2 | cookies, hot chocolate, beef jerky                       | survival, bored                                                                                                                   | 2 | ⋯ | 1 |   2 | 1 |  940 | 500 | nan                   | 2 | 1 | 1315 | 180                     |\n",
       "| 3.5   | 2 | 1 | 265 |   2 | 420 | 2 | Tomato soup, pizza, Fritos, Meatball sub, Dr. Pepper     | Boredom, anger, drunkeness                                                                                                        | 2 | ⋯ | 1 |   2 | 5 |  580 | 500 | nan                   | 4 | 1 |  760 | 167                     |\n",
       "| ⋮ | ⋮ | ⋮ | ⋮ | ⋮ | ⋮ | ⋮ | ⋮ | ⋮ | ⋮ | ⋱ | ⋮ | ⋮ | ⋮ | ⋮ | ⋮ | ⋮ | ⋮ | ⋮ | ⋮ | ⋮ |\n",
       "| 3.5     | 2 | 1 | 265 | NaN | 420 | 2 | Doritos, mac and cheese, ice cream                                                                | Boredom, hunger, snacking.                                                         |  2 | ⋯ | 2 |   1 | 4 | 1165 | 690 | Wrestling                                                   | 4 | 2 | 1315 | 184 |\n",
       "| 3.92    | 2 | 1 | 430 |   3 | 420 | 2 | Ice cream, cake, pop, pizza, and milkshakes.                                                      | Happiness, sadness, celebration.                                                   |  7 | ⋯ | 1 |   2 | 3 |  725 | 500 | Soccer                                                      | 2 | 1 |  900 | 210 |\n",
       "| 3.9     | 1 | 1 | 720 |   3 | 420 | 2 | Mac and Cheese, Pizza, Ice Cream and French Fries                                                 | Boredom, anger and just being hungry in general.                                   |  2 | ⋯ | 1 |   1 | 3 | 1165 | 500 | Running                                                     | 5 | 2 |  760 | 155 |\n",
       "| 3.9     | 2 | 1 | 720 |   3 | 315 | 1 | Soup, pasta, cake                                                                                 | Depression, comfort, accessibility                                                 |  3 | ⋯ | 1 |   1 | 5 | 1165 | 690 | Tennis                                                      | 4 | 1 | 1315 | 185 |\n",
       "| 3.2     | 1 | 1 | 430 |   4 | 420 | 1 | mac &amp; cheese, frosted brownies, chicken nuggs                                                     | they are yummy, my boyfriend sometimes makes me sad, boredom                       |  3 | ⋯ | 1 |   1 | 1 | 1165 | 690 | softball                                                    | 5 | 1 |  900 | 165 |\n",
       "| 3.5     | 1 | 1 | 610 |   3 | NaN | 2 | watermelon, grapes, ice cream                                                                     | Sad, bored, excited                                                                |  3 | ⋯ | 1 |   1 | 5 |  NaN | 500 | Volleyball, Track                                           | 5 | 2 |  900 | 125 |\n",
       "| 3.4     | 1 | 1 | 610 | NaN | 420 | 2 | macaroni and cheese, stuffed peppers, hamburgers, french fries                                    | boredom, stress, mood swings                                                       |  2 | ⋯ | 1 |   2 | 3 | 1165 | 500 | nan                                                         | 5 | 2 | 1315 | 160 |\n",
       "| nan     | 1 | 1 | 610 |   4 | 420 | 2 | Pizza, mashed potatoes, spaghetti                                                                 | Anger, sadness                                                                     |  3 | ⋯ | 1 |   2 | 2 |  940 | 500 | nan                                                         | 5 | 1 |  900 | 135 |\n",
       "| 3.7     | 1 | 1 | 610 |   3 | 420 | 2 | dark chocolate, terra chips, reese's cups(dark chocolate), and bread/crackers with cottage cheese | Anxiousness, watching TV I desire \"comfort food\"                                   |  8 | ⋯ | 1 |   2 | 3 |  725 | 345 | When I can, rarely though play pool, darts, and basketball. | 5 | 1 |  760 | 130 |\n",
       "| Unknown | 1 | 1 | 720 |   3 | 420 | 2 | Chips, chocolate, ,mozzarella sticks                                                              | Boredom, sadness, anxiety                                                          |  2 | ⋯ | 2 |   2 | 5 |  940 | 690 | None at the moment                                          | 5 | 1 | 1315 | 230 |\n",
       "| 3       | 1 | 1 | 720 |   3 | 420 | 2 | ice cream, chips, candy                                                                           | Boredom, laziness, anger                                                           |  2 | ⋯ | 2 |   1 | 3 | 1165 | 690 | volleyball                                                  | 2 | 2 | 1315 | 125 |\n",
       "| 3       | 1 | 1 | 430 |   3 | 315 | 2 | Pizza, soda, chocolate brownie, chicken tikka masala and butter naan                              | Stress and sadness                                                                 | NA | ⋯ | 1 |   2 | 4 |  580 | 500 | None                                                        | 5 | 2 |  760 | 130 |\n",
       "| 3.8     | 1 | 1 | 430 |   3 | 420 | 1 | Chocolate, Pasta, Cookies                                                                         | I am always stressed out, and bored when I am in my apartment.                     | NA | ⋯ | 1 |   2 | 5 | 1165 | 690 | I used to play softball                                     | 4 | 2 |  900 | 165 |\n",
       "| 3.8     | 1 | 1 | 430 |   2 | 420 | 2 | Candy, salty snacks, toast                                                                        | Stress, sadness, boredom                                                           | NA | ⋯ | 1 |   1 | 2 |  580 | 345 | Ice hockey                                                  | 5 | 2 |  760 | 128 |\n",
       "| 3.4     | 1 | 1 | 610 |   3 | 420 | 2 | Mac in cheese, pizza, mozzarella sticks                                                           | Stress, frustration, self-consciousness                                            | NA | ⋯ | 1 |   2 | 2 |  940 | 690 | None                                                        | 3 | 1 | 1315 | 200 |\n",
       "| 3.7     | 1 | 1 | 610 |   3 | 315 | 1 | Ice-cream, pizza, chocolate                                                                       | Sadness and cravings                                                               | NA | ⋯ | 1 |   1 | 3 |  580 | 690 | Volleyball                                                  | 3 | 2 |  900 | 160 |\n",
       "| 2.9     | 2 | 1 | 265 |   2 | 980 | 2 | snacks, chips,                                                                                    | boredom                                                                            | NA | ⋯ | 1 |   2 | 1 |  725 | 345 | nan                                                         | 3 | 2 | 1315 | 170 |\n",
       "| 3.9     | 1 | 1 | 610 |   4 | 315 | 2 | Chocolate, Ice cream, pizza                                                                       | Sadness, happiness and boredom                                                     | NA | ⋯ | 1 |   2 | 5 |  725 | 500 | nan                                                         | 3 | 2 |  900 | 129 |\n",
       "| 3.6     | 1 | 1 | 430 |   2 | 420 | 1 | ice cream, pizza, Chinese food                                                                    | Boredom and sadness                                                                | NA | ⋯ | 1 |   2 | 2 | 1165 | 690 | None                                                        | 2 | 2 |  900 | 170 |\n",
       "| 2.8     | 2 | 1 | 610 |   3 | 315 | 2 | Burgers, indian and korean food                                                                   | sadness, happiness and hunger                                                      | NA | ⋯ | 1 |   1 | 5 |  940 | 850 | Tennis, Basketball                                          | 3 | 2 |  760 | 138 |\n",
       "| 3.3     | 2 | 1 | 610 |   4 | 980 | 2 | chocolate bar, ice cream, pretzels, potato chips and protein bars.                                | Stress, boredom and physical activity                                              | NA | ⋯ | 1 |   1 | 1 | 1165 | 690 | Hockey                                                      | 2 | 2 | 1315 | 150 |\n",
       "| 3.4     | 1 | 1 | 610 | NaN | 420 | 2 | Ice cream, chocolate, pizza, cucumber                                                             | loneliness, homework, boredom                                                      | NA | ⋯ | 1 |   2 | 5 |  725 | 345 | none                                                        | 5 | 1 | 1315 | 170 |\n",
       "| 3.77    | 1 | 1 | 610 | NaN | 315 | 2 | Noodle ( any kinds of noodle), Tuna sandwich, and Egg.                                            | When i'm  eating with my close friends/ Food smell or look good/ when I feel tired | NA | ⋯ | 1 |   2 | 5 |  725 | 690 | No, I don't play sport.                                     | 3 | 1 |  760 | 113 |\n",
       "| 3.63    | 1 | 1 | 430 |   3 | 420 | 1 | Chinese, chips, cake                                                                              | Stress and boredom                                                                 | NA | ⋯ | 1 |   2 | 4 |  940 | 345 | None                                                        | 5 | 2 | 1315 | 140 |\n",
       "| 3.2     | 2 | 1 | 610 |   3 | 420 | 2 | chips, rice, chicken curry,                                                                       | Happiness, boredom, social event                                                   | NA | ⋯ | 1 |   1 | 5 | 1165 | 690 | Soccer                                                      | 5 | 2 | 1315 | 185 |\n",
       "| 3.5     | 1 | 1 | 610 |   4 | 420 | 2 | wine. mac and cheese, pizza, ice cream                                                            | boredom and sadness                                                                | NA | ⋯ | 1 |   1 | 5 |  940 | 500 | Softball                                                    | 5 | 1 | 1315 | 156 |\n",
       "| 3       | 1 | 1 | 265 |   2 | 315 | 2 | Pizza / Wings / Cheesecake                                                                        | Loneliness / Homesick / Sadness                                                    | NA | ⋯ | 1 | NaN | 4 |  940 | 500 | basketball                                                  | 5 | 2 | 1315 | 180 |\n",
       "| 3.882   | 1 | 1 | 720 | NaN | 420 | 1 | rice, potato, seaweed soup                                                                        | sadness                                                                            | NA | ⋯ | 1 |   2 | 5 |  580 | 690 | none                                                        | 4 | 2 | 1315 | 120 |\n",
       "| 3       | 2 | 1 | 720 |   4 | 420 | 1 | Mac n Cheese, Lasagna, Pizza                                                                      | happiness, they are some of my favorite foods                                      | NA | ⋯ | 2 |   2 | 1 |  940 | 500 | nan                                                         | 3 | 1 | 1315 | 135 |\n",
       "| 3.9     | 1 | 1 | 430 | NaN | 315 | 2 | Chocolates, pizza, and Ritz.                                                                      | hormones, Premenstrual syndrome.                                                   | NA | ⋯ | 1 |   2 | 2 |  725 | 345 | nan                                                         | 4 | 2 |  575 | 135 |\n",
       "\n"
      ],
      "text/plain": [
       "    GPA     Gender breakfast calories_chicken calories_day calories_scone\n",
       "1   2.4     2      1         430              NaN          315           \n",
       "2   3.654   1      1         610                3          420           \n",
       "3   3.3     1      1         720                4          420           \n",
       "4   3.2     1      1         430                3          420           \n",
       "5   3.5     1      1         720                2          420           \n",
       "6   2.25    1      1         610                3          980           \n",
       "7   3.8     2      1         610                3          420           \n",
       "8   3.3     1      1         720                3          420           \n",
       "9   3.3     1      1         430              NaN          420           \n",
       "10  3.3     1      1         430                3          315           \n",
       "11  3.5     1      1         610                3          980           \n",
       "12  3.904   1      1         720                4          420           \n",
       "13  3.4     2      1         430                3          420           \n",
       "14  3.6     1      1         610                3          420           \n",
       "15  3.1     2      1         610                3          420           \n",
       "16  nan     2      2         430              NaN          980           \n",
       "17  4       1      1         265                3          420           \n",
       "18  3.6     2      1         430                3          980           \n",
       "19  3.4     1      1         720                3          980           \n",
       "20  2.2     2      1         430                2          420           \n",
       "21  3.3     2      1         610                3          980           \n",
       "22  3.87    2      1         610                3          315           \n",
       "23  3.7     2      1         610                3          420           \n",
       "24  3.7     2      2         610                3          420           \n",
       "25  3.9     1      1         720                2          420           \n",
       "26  2.8     1      2         720                3          420           \n",
       "27  3.7     2      1         610                2          420           \n",
       "28  3       2      1         610                4          980           \n",
       "29  3.2     2      1         610                2          420           \n",
       "30  3.5     2      1         265                2          420           \n",
       "⋮   ⋮       ⋮      ⋮         ⋮                ⋮            ⋮             \n",
       "96  3.5     2      1         265              NaN          420           \n",
       "97  3.92    2      1         430                3          420           \n",
       "98  3.9     1      1         720                3          420           \n",
       "99  3.9     2      1         720                3          315           \n",
       "100 3.2     1      1         430                4          420           \n",
       "101 3.5     1      1         610                3          NaN           \n",
       "102 3.4     1      1         610              NaN          420           \n",
       "103 nan     1      1         610                4          420           \n",
       "104 3.7     1      1         610                3          420           \n",
       "105 Unknown 1      1         720                3          420           \n",
       "106 3       1      1         720                3          420           \n",
       "107 3       1      1         430                3          315           \n",
       "108 3.8     1      1         430                3          420           \n",
       "109 3.8     1      1         430                2          420           \n",
       "110 3.4     1      1         610                3          420           \n",
       "111 3.7     1      1         610                3          315           \n",
       "112 2.9     2      1         265                2          980           \n",
       "113 3.9     1      1         610                4          315           \n",
       "114 3.6     1      1         430                2          420           \n",
       "115 2.8     2      1         610                3          315           \n",
       "116 3.3     2      1         610                4          980           \n",
       "117 3.4     1      1         610              NaN          420           \n",
       "118 3.77    1      1         610              NaN          315           \n",
       "119 3.63    1      1         430                3          420           \n",
       "120 3.2     2      1         610                3          420           \n",
       "121 3.5     1      1         610                4          420           \n",
       "122 3       1      1         265                2          315           \n",
       "123 3.882   1      1         720              NaN          420           \n",
       "124 3       2      1         720                4          420           \n",
       "125 3.9     1      1         430              NaN          315           \n",
       "    coffee\n",
       "1   1     \n",
       "2   2     \n",
       "3   2     \n",
       "4   2     \n",
       "5   2     \n",
       "6   2     \n",
       "7   2     \n",
       "8   1     \n",
       "9   1     \n",
       "10  2     \n",
       "11  2     \n",
       "12  2     \n",
       "13  2     \n",
       "14  2     \n",
       "15  2     \n",
       "16  2     \n",
       "17  1     \n",
       "18  2     \n",
       "19  1     \n",
       "20  2     \n",
       "21  2     \n",
       "22  1     \n",
       "23  1     \n",
       "24  2     \n",
       "25  2     \n",
       "26  2     \n",
       "27  1     \n",
       "28  2     \n",
       "29  2     \n",
       "30  2     \n",
       "⋮   ⋮     \n",
       "96  2     \n",
       "97  2     \n",
       "98  2     \n",
       "99  1     \n",
       "100 1     \n",
       "101 2     \n",
       "102 2     \n",
       "103 2     \n",
       "104 2     \n",
       "105 2     \n",
       "106 2     \n",
       "107 2     \n",
       "108 1     \n",
       "109 2     \n",
       "110 2     \n",
       "111 1     \n",
       "112 2     \n",
       "113 2     \n",
       "114 1     \n",
       "115 2     \n",
       "116 2     \n",
       "117 2     \n",
       "118 2     \n",
       "119 1     \n",
       "120 2     \n",
       "121 2     \n",
       "122 2     \n",
       "123 1     \n",
       "124 1     \n",
       "125 2     \n",
       "    comfort_food                                                                                     \n",
       "1   none                                                                                             \n",
       "2   chocolate, chips, ice cream                                                                      \n",
       "3   frozen yogurt, pizza, fast food                                                                  \n",
       "4   Pizza, Mac and cheese, ice cream                                                                 \n",
       "5   Ice cream, chocolate, chips                                                                      \n",
       "6   Candy, brownies and soda.                                                                        \n",
       "7   Chocolate, ice cream, french fries, pretzels                                                     \n",
       "8   Ice cream, cheeseburgers, chips.                                                                 \n",
       "9   Donuts, ice cream, chips                                                                         \n",
       "10  Mac and cheese, chocolate, and pasta                                                             \n",
       "11  Pasta, grandma homemade chocolate cake anything homemade                                         \n",
       "12  chocolate, pasta, soup, chips, popcorn                                                           \n",
       "13  Cookies, popcorn, and chips                                                                      \n",
       "14  ice cream, cake, chocolate                                                                       \n",
       "15  Pizza, fruit, spaghetti, chicken and Potatoes                                                    \n",
       "16  cookies, donuts, candy bars                                                                      \n",
       "17  Saltfish, Candy and Kit Kat                                                                      \n",
       "18  chips, cookies, ice cream                                                                        \n",
       "19  Chocolate, ice crea                                                                              \n",
       "20  pizza, wings, Chinese                                                                            \n",
       "21  Fast food, pizza, subs                                                                           \n",
       "22  chocolate, sweets, ice cream                                                                     \n",
       "23  burgers, chips, cookies                                                                          \n",
       "24  Chilli, soup, pot pie                                                                            \n",
       "25  Soup, pasta, brownies, cake                                                                      \n",
       "26  chocolate, ice cream/milkshake, cookies                                                          \n",
       "27  Chips, ice cream, microwaveable foods                                                            \n",
       "28  Chicken fingers, pizza                                                                           \n",
       "29  cookies, hot chocolate, beef jerky                                                               \n",
       "30  Tomato soup, pizza, Fritos, Meatball sub, Dr. Pepper                                             \n",
       "⋮   ⋮                                                                                                \n",
       "96  Doritos, mac and cheese, ice cream                                                               \n",
       "97  Ice cream, cake, pop, pizza, and milkshakes.                                                     \n",
       "98  Mac and Cheese, Pizza, Ice Cream and French Fries                                                \n",
       "99  Soup, pasta, cake                                                                                \n",
       "100 mac & cheese, frosted brownies, chicken nuggs                                                    \n",
       "101 watermelon, grapes, ice cream                                                                    \n",
       "102 macaroni and cheese, stuffed peppers, hamburgers, french fries                                   \n",
       "103 Pizza, mashed potatoes, spaghetti                                                                \n",
       "104 dark chocolate, terra chips, reese's cups(dark chocolate), and bread/crackers with cottage cheese\n",
       "105 Chips, chocolate, ,mozzarella sticks                                                             \n",
       "106 ice cream, chips, candy                                                                          \n",
       "107 Pizza, soda, chocolate brownie, chicken tikka masala and butter naan                             \n",
       "108 Chocolate, Pasta, Cookies                                                                        \n",
       "109 Candy, salty snacks, toast                                                                       \n",
       "110 Mac in cheese, pizza, mozzarella sticks                                                          \n",
       "111 Ice-cream, pizza, chocolate                                                                      \n",
       "112 snacks, chips,                                                                                   \n",
       "113 Chocolate, Ice cream, pizza                                                                      \n",
       "114 ice cream, pizza, Chinese food                                                                   \n",
       "115 Burgers, indian and korean food                                                                  \n",
       "116 chocolate bar, ice cream, pretzels, potato chips and protein bars.                               \n",
       "117 Ice cream, chocolate, pizza, cucumber                                                            \n",
       "118 Noodle ( any kinds of noodle), Tuna sandwich, and Egg.                                           \n",
       "119 Chinese, chips, cake                                                                             \n",
       "120 chips, rice, chicken curry,                                                                      \n",
       "121 wine. mac and cheese, pizza, ice cream                                                           \n",
       "122 Pizza / Wings / Cheesecake                                                                       \n",
       "123 rice, potato, seaweed soup                                                                       \n",
       "124 Mac n Cheese, Lasagna, Pizza                                                                     \n",
       "125 Chocolates, pizza, and Ritz.                                                                     \n",
       "    comfort_food_reasons                                                                                                             \n",
       "1   we dont have comfort                                                                                                             \n",
       "2   Stress, bored, anger                                                                                                             \n",
       "3   stress, sadness                                                                                                                  \n",
       "4   Boredom                                                                                                                          \n",
       "5   Stress, boredom, cravings                                                                                                        \n",
       "6   None, i don't eat comfort food. I just eat when i'm hungry.                                                                      \n",
       "7   stress, boredom                                                                                                                  \n",
       "8   I eat comfort food when im stressed out from school(finals week), when I`m sad, or when i am dealing with personal family issues.\n",
       "9   Boredom                                                                                                                          \n",
       "10  Stress, anger and sadness                                                                                                        \n",
       "11  Boredom                                                                                                                          \n",
       "12  sadness, stress, cold weather                                                                                                    \n",
       "13  Sadness, boredom, late night snack                                                                                               \n",
       "14  stress,  boredom, special occasions                                                                                              \n",
       "15  Friends, environment and boredom                                                                                                 \n",
       "16  boredom                                                                                                                          \n",
       "17  Stress                                                                                                                           \n",
       "18  I usually only eat comfort food when I'm bored, if i am doing something, i can go for hours without eating                       \n",
       "19  Sadness, stress                                                                                                                  \n",
       "20  boredom, sadness, hungry                                                                                                         \n",
       "21  happiness, satisfaction                                                                                                          \n",
       "22  Mostly boredom                                                                                                                   \n",
       "23  sadness, depression                                                                                                              \n",
       "24  Stress and boredom                                                                                                               \n",
       "25  A long day, not feeling well, winter                                                                                             \n",
       "26  boredom                                                                                                                          \n",
       "27  Boredom, lazyniss                                                                                                                \n",
       "28  Boredom                                                                                                                          \n",
       "29  survival, bored                                                                                                                  \n",
       "30  Boredom, anger, drunkeness                                                                                                       \n",
       "⋮   ⋮                                                                                                                                \n",
       "96  Boredom, hunger, snacking.                                                                                                       \n",
       "97  Happiness, sadness, celebration.                                                                                                 \n",
       "98  Boredom, anger and just being hungry in general.                                                                                 \n",
       "99  Depression, comfort, accessibility                                                                                               \n",
       "100 they are yummy, my boyfriend sometimes makes me sad, boredom                                                                     \n",
       "101 Sad, bored, excited                                                                                                              \n",
       "102 boredom, stress, mood swings                                                                                                     \n",
       "103 Anger, sadness                                                                                                                   \n",
       "104 Anxiousness, watching TV I desire \"comfort food\"                                                                                 \n",
       "105 Boredom, sadness, anxiety                                                                                                        \n",
       "106 Boredom, laziness, anger                                                                                                         \n",
       "107 Stress and sadness                                                                                                               \n",
       "108 I am always stressed out, and bored when I am in my apartment.                                                                   \n",
       "109 Stress, sadness, boredom                                                                                                         \n",
       "110 Stress, frustration, self-consciousness                                                                                          \n",
       "111 Sadness and cravings                                                                                                             \n",
       "112 boredom                                                                                                                          \n",
       "113 Sadness, happiness and boredom                                                                                                   \n",
       "114 Boredom and sadness                                                                                                              \n",
       "115 sadness, happiness and hunger                                                                                                    \n",
       "116 Stress, boredom and physical activity                                                                                            \n",
       "117 loneliness, homework, boredom                                                                                                    \n",
       "118 When i'm  eating with my close friends/ Food smell or look good/ when I feel tired                                               \n",
       "119 Stress and boredom                                                                                                               \n",
       "120 Happiness, boredom, social event                                                                                                 \n",
       "121 boredom and sadness                                                                                                              \n",
       "122 Loneliness / Homesick / Sadness                                                                                                  \n",
       "123 sadness                                                                                                                          \n",
       "124 happiness, they are some of my favorite foods                                                                                    \n",
       "125 hormones, Premenstrual syndrome.                                                                                                 \n",
       "    comfort_food_reasons_coded...10 ⋯ soup sports thai_food tortilla_calories\n",
       "1   9                               ⋯ 1      1    1         1165             \n",
       "2   1                               ⋯ 1      1    2          725             \n",
       "3   1                               ⋯ 1      2    5         1165             \n",
       "4   2                               ⋯ 1      2    5          725             \n",
       "5   1                               ⋯ 1      1    4          940             \n",
       "6   4                               ⋯ 1      2    4          940             \n",
       "7   1                               ⋯ 1      1    5          940             \n",
       "8   1                               ⋯ 1      2    1          725             \n",
       "9   2                               ⋯ 2      2    5          725             \n",
       "10  1                               ⋯ 1      1    4          580             \n",
       "11  2                               ⋯ 1      1    2          940             \n",
       "12  3                               ⋯ 1      1    5          940             \n",
       "13  3                               ⋯ 2      1    3          940             \n",
       "14  1                               ⋯ 1      1    5         1165             \n",
       "15  2                               ⋯ 1      1    4          940             \n",
       "16  2                               ⋯ 2      1    1          940             \n",
       "17  1                               ⋯ 1      2    1          580             \n",
       "18  2                               ⋯ 1      1    3          940             \n",
       "19  3                               ⋯ 2      2    1         1165             \n",
       "20  2                               ⋯ 1    NaN    3          940             \n",
       "21  7                               ⋯ 1      1    1         1165             \n",
       "22  2                               ⋯ 2      1    5          725             \n",
       "23  3                               ⋯ 1      1    4          940             \n",
       "24  1                               ⋯ 1      1    4          940             \n",
       "25  6                               ⋯ 2      2    4          940             \n",
       "26  2                               ⋯ 1      1    3         1165             \n",
       "27  2                               ⋯ 2      1    2         1165             \n",
       "28  2                               ⋯ 1      1    3         1165             \n",
       "29  2                               ⋯ 1      2    1          940             \n",
       "30  2                               ⋯ 1      2    5          580             \n",
       "⋮   ⋮                               ⋱ ⋮    ⋮      ⋮         ⋮                \n",
       "96   2                              ⋯ 2      1    4         1165             \n",
       "97   7                              ⋯ 1      2    3          725             \n",
       "98   2                              ⋯ 1      1    3         1165             \n",
       "99   3                              ⋯ 1      1    5         1165             \n",
       "100  3                              ⋯ 1      1    1         1165             \n",
       "101  3                              ⋯ 1      1    5          NaN             \n",
       "102  2                              ⋯ 1      2    3         1165             \n",
       "103  3                              ⋯ 1      2    2          940             \n",
       "104  8                              ⋯ 1      2    3          725             \n",
       "105  2                              ⋯ 2      2    5          940             \n",
       "106  2                              ⋯ 2      1    3         1165             \n",
       "107 NA                              ⋯ 1      2    4          580             \n",
       "108 NA                              ⋯ 1      2    5         1165             \n",
       "109 NA                              ⋯ 1      1    2          580             \n",
       "110 NA                              ⋯ 1      2    2          940             \n",
       "111 NA                              ⋯ 1      1    3          580             \n",
       "112 NA                              ⋯ 1      2    1          725             \n",
       "113 NA                              ⋯ 1      2    5          725             \n",
       "114 NA                              ⋯ 1      2    2         1165             \n",
       "115 NA                              ⋯ 1      1    5          940             \n",
       "116 NA                              ⋯ 1      1    1         1165             \n",
       "117 NA                              ⋯ 1      2    5          725             \n",
       "118 NA                              ⋯ 1      2    5          725             \n",
       "119 NA                              ⋯ 1      2    4          940             \n",
       "120 NA                              ⋯ 1      1    5         1165             \n",
       "121 NA                              ⋯ 1      1    5          940             \n",
       "122 NA                              ⋯ 1    NaN    4          940             \n",
       "123 NA                              ⋯ 1      2    5          580             \n",
       "124 NA                              ⋯ 2      2    1          940             \n",
       "125 NA                              ⋯ 1      2    2          725             \n",
       "    turkey_calories type_sports                                                \n",
       "1   345             car racing                                                 \n",
       "2   690             Basketball                                                 \n",
       "3   500             none                                                       \n",
       "4   690             nan                                                        \n",
       "5   500             Softball                                                   \n",
       "6   345             None.                                                      \n",
       "7   690             soccer                                                     \n",
       "8   500             none                                                       \n",
       "9   345             none                                                       \n",
       "10  345             field hockey                                               \n",
       "11  345             soccer                                                     \n",
       "12  500             Running                                                    \n",
       "13  500             Soccer and basketball                                      \n",
       "14  850             intramural volleyball                                      \n",
       "15  500             Hockey                                                     \n",
       "16  345             Hockey                                                     \n",
       "17  345             nan                                                        \n",
       "18  500             hockey                                                     \n",
       "19  690             dancing                                                    \n",
       "20  345             basketball                                                 \n",
       "21  850             Soccer                                                     \n",
       "22  500             Tennis                                                     \n",
       "23  850             tennis soccer gym                                          \n",
       "24  690             Gaelic Football                                            \n",
       "25  500             none                                                       \n",
       "26  690             Ice hockey                                                 \n",
       "27  850             Hockey                                                     \n",
       "28  500             Lacrosse                                                   \n",
       "29  500             nan                                                        \n",
       "30  500             nan                                                        \n",
       "⋮   ⋮               ⋮                                                          \n",
       "96  690             Wrestling                                                  \n",
       "97  500             Soccer                                                     \n",
       "98  500             Running                                                    \n",
       "99  690             Tennis                                                     \n",
       "100 690             softball                                                   \n",
       "101 500             Volleyball, Track                                          \n",
       "102 500             nan                                                        \n",
       "103 500             nan                                                        \n",
       "104 345             When I can, rarely though play pool, darts, and basketball.\n",
       "105 690             None at the moment                                         \n",
       "106 690             volleyball                                                 \n",
       "107 500             None                                                       \n",
       "108 690             I used to play softball                                    \n",
       "109 345             Ice hockey                                                 \n",
       "110 690             None                                                       \n",
       "111 690             Volleyball                                                 \n",
       "112 345             nan                                                        \n",
       "113 500             nan                                                        \n",
       "114 690             None                                                       \n",
       "115 850             Tennis, Basketball                                         \n",
       "116 690             Hockey                                                     \n",
       "117 345             none                                                       \n",
       "118 690             No, I don't play sport.                                    \n",
       "119 345             None                                                       \n",
       "120 690             Soccer                                                     \n",
       "121 500             Softball                                                   \n",
       "122 500             basketball                                                 \n",
       "123 690             none                                                       \n",
       "124 500             nan                                                        \n",
       "125 345             nan                                                        \n",
       "    veggies_day vitamins waffle_calories weight                 \n",
       "1   5           1        1315            187                    \n",
       "2   4           2         900            155                    \n",
       "3   5           1         900            I'm not answering this.\n",
       "4   3           1        1315            Not sure, 240          \n",
       "5   4           2         760            190                    \n",
       "6   1           2        1315            190                    \n",
       "7   4           1        1315            180                    \n",
       "8   4           2        1315            137                    \n",
       "9   3           2         760            180                    \n",
       "10  5           1         900            125                    \n",
       "11  5           2         900            116                    \n",
       "12  5           1         900            110                    \n",
       "13  3           2         575            264                    \n",
       "14  5           2        1315            123                    \n",
       "15  5           1         900            185                    \n",
       "16  1           2        1315            180                    \n",
       "17  5           1         760            145                    \n",
       "18  4           2         900            170                    \n",
       "19  5           1        1315            135                    \n",
       "20  2           2         900            165                    \n",
       "21  3           2        1315            175                    \n",
       "22  2           2         900            195                    \n",
       "23  3           1        1315            185                    \n",
       "24  4           1        1315            185                    \n",
       "25  4           2        1315            105                    \n",
       "26  3           2         760            125                    \n",
       "27  3           2        1315            160                    \n",
       "28  5           1        1315            175                    \n",
       "29  2           1        1315            180                    \n",
       "30  4           1         760            167                    \n",
       "⋮   ⋮           ⋮        ⋮               ⋮                      \n",
       "96  4           2        1315            184                    \n",
       "97  2           1         900            210                    \n",
       "98  5           2         760            155                    \n",
       "99  4           1        1315            185                    \n",
       "100 5           1         900            165                    \n",
       "101 5           2         900            125                    \n",
       "102 5           2        1315            160                    \n",
       "103 5           1         900            135                    \n",
       "104 5           1         760            130                    \n",
       "105 5           1        1315            230                    \n",
       "106 2           2        1315            125                    \n",
       "107 5           2         760            130                    \n",
       "108 4           2         900            165                    \n",
       "109 5           2         760            128                    \n",
       "110 3           1        1315            200                    \n",
       "111 3           2         900            160                    \n",
       "112 3           2        1315            170                    \n",
       "113 3           2         900            129                    \n",
       "114 2           2         900            170                    \n",
       "115 3           2         760            138                    \n",
       "116 2           2        1315            150                    \n",
       "117 5           1        1315            170                    \n",
       "118 3           1         760            113                    \n",
       "119 5           2        1315            140                    \n",
       "120 5           2        1315            185                    \n",
       "121 5           1        1315            156                    \n",
       "122 5           2        1315            180                    \n",
       "123 4           2        1315            120                    \n",
       "124 3           1        1315            135                    \n",
       "125 4           2         575            135                    "
      ]
     },
     "metadata": {},
     "output_type": "display_data"
    }
   ],
   "source": [
    "# Your turn!\n",
    "\n",
    "# To give you practice reading in files, I've added a second dataset to this notebook\n",
    "# as well. This dataset is in the following place: ../input/food-choices/food_coded.csv\n",
    "\n",
    "foodPreferences <- read_csv(\"../input/food-choices/food_coded.csv\")\n",
    "\n",
    "\n",
    "# read in your dataset and save it as a variable called \"foodPreferences\"\n",
    "\n",
    "foodPreferences"
   ]
  },
  {
   "cell_type": "markdown",
   "id": "67771735",
   "metadata": {
    "_cell_guid": "f5056892-414e-481c-be1e-6c865010a25a",
    "_uuid": "dad981a3709f79829b3a35d47f56f0809ad21b93",
    "papermill": {
     "duration": 0.007563,
     "end_time": "2023-04-11T02:10:31.558553",
     "exception": false,
     "start_time": "2023-04-11T02:10:31.550990",
     "status": "completed"
    },
    "tags": []
   },
   "source": [
    "## Look at the data we've read in"
   ]
  },
  {
   "cell_type": "markdown",
   "id": "0bfc26fd",
   "metadata": {
    "_cell_guid": "61b890e9-8de5-4f40-99dd-6284ddc4d195",
    "_uuid": "41c19197dfb5d784e9fa254bc4be1d33ad885c2a",
    "papermill": {
     "duration": 0.007547,
     "end_time": "2023-04-11T02:10:31.574816",
     "exception": false,
     "start_time": "2023-04-11T02:10:31.567269",
     "status": "completed"
    },
    "tags": []
   },
   "source": [
    "Congrats, you've gotten some data into R! Now we want to make sure that it all read in correctly, and get an idea of what's in our data file."
   ]
  },
  {
   "cell_type": "code",
   "execution_count": 4,
   "id": "8660ef70",
   "metadata": {
    "_cell_guid": "b71e609c-b4de-4358-9d03-26d91bd36178",
    "_uuid": "391c8ff8aea3fb1dfb05be82553f89a99002104f",
    "execution": {
     "iopub.execute_input": "2023-04-11T02:10:31.593782Z",
     "iopub.status.busy": "2023-04-11T02:10:31.592303Z",
     "iopub.status.idle": "2023-04-11T02:10:31.638695Z",
     "shell.execute_reply": "2023-04-11T02:10:31.636821Z"
    },
    "papermill": {
     "duration": 0.058729,
     "end_time": "2023-04-11T02:10:31.641303",
     "exception": false,
     "start_time": "2023-04-11T02:10:31.582574",
     "status": "completed"
    },
    "tags": []
   },
   "outputs": [
    {
     "data": {
      "text/html": [
       "<table class=\"dataframe\">\n",
       "<caption>A tibble: 6 × 9</caption>\n",
       "<thead>\n",
       "\t<tr><th scope=col>Company...Maker.if.known.</th><th scope=col>Specific.Bean.Origin.or.Bar.Name</th><th scope=col>REF</th><th scope=col>Review.Date</th><th scope=col>Cocoa.Percent</th><th scope=col>Company.Location</th><th scope=col>Rating</th><th scope=col>Bean.Type</th><th scope=col>Broad.Bean.Origin</th></tr>\n",
       "\t<tr><th scope=col>&lt;chr&gt;</th><th scope=col>&lt;chr&gt;</th><th scope=col>&lt;dbl&gt;</th><th scope=col>&lt;dbl&gt;</th><th scope=col>&lt;chr&gt;</th><th scope=col>&lt;chr&gt;</th><th scope=col>&lt;dbl&gt;</th><th scope=col>&lt;chr&gt;</th><th scope=col>&lt;chr&gt;</th></tr>\n",
       "</thead>\n",
       "<tbody>\n",
       "\t<tr><td>A. Morin</td><td>Agua Grande</td><td>1876</td><td>2016</td><td>63%</td><td>France</td><td>3.75</td><td>       </td><td>Sao Tome </td></tr>\n",
       "\t<tr><td>A. Morin</td><td>Kpime      </td><td>1676</td><td>2015</td><td>70%</td><td>France</td><td>2.75</td><td>       </td><td>Togo     </td></tr>\n",
       "\t<tr><td>A. Morin</td><td>Atsane     </td><td>1676</td><td>2015</td><td>70%</td><td>France</td><td>3.00</td><td>       </td><td>Togo     </td></tr>\n",
       "\t<tr><td>A. Morin</td><td>Akata      </td><td>1680</td><td>2015</td><td>70%</td><td>France</td><td>3.50</td><td>       </td><td>Togo     </td></tr>\n",
       "\t<tr><td>A. Morin</td><td>Quilla     </td><td>1704</td><td>2015</td><td>70%</td><td>France</td><td>3.50</td><td>       </td><td>Peru     </td></tr>\n",
       "\t<tr><td>A. Morin</td><td>Carenero   </td><td>1315</td><td>2014</td><td>70%</td><td>France</td><td>2.75</td><td>Criollo</td><td>Venezuela</td></tr>\n",
       "</tbody>\n",
       "</table>\n"
      ],
      "text/latex": [
       "A tibble: 6 × 9\n",
       "\\begin{tabular}{lllllllll}\n",
       " Company...Maker.if.known. & Specific.Bean.Origin.or.Bar.Name & REF & Review.Date & Cocoa.Percent & Company.Location & Rating & Bean.Type & Broad.Bean.Origin\\\\\n",
       " <chr> & <chr> & <dbl> & <dbl> & <chr> & <chr> & <dbl> & <chr> & <chr>\\\\\n",
       "\\hline\n",
       "\t A. Morin & Agua Grande & 1876 & 2016 & 63\\% & France & 3.75 &         & Sao Tome \\\\\n",
       "\t A. Morin & Kpime       & 1676 & 2015 & 70\\% & France & 2.75 &         & Togo     \\\\\n",
       "\t A. Morin & Atsane      & 1676 & 2015 & 70\\% & France & 3.00 &         & Togo     \\\\\n",
       "\t A. Morin & Akata       & 1680 & 2015 & 70\\% & France & 3.50 &         & Togo     \\\\\n",
       "\t A. Morin & Quilla      & 1704 & 2015 & 70\\% & France & 3.50 &         & Peru     \\\\\n",
       "\t A. Morin & Carenero    & 1315 & 2014 & 70\\% & France & 2.75 & Criollo & Venezuela\\\\\n",
       "\\end{tabular}\n"
      ],
      "text/markdown": [
       "\n",
       "A tibble: 6 × 9\n",
       "\n",
       "| Company...Maker.if.known. &lt;chr&gt; | Specific.Bean.Origin.or.Bar.Name &lt;chr&gt; | REF &lt;dbl&gt; | Review.Date &lt;dbl&gt; | Cocoa.Percent &lt;chr&gt; | Company.Location &lt;chr&gt; | Rating &lt;dbl&gt; | Bean.Type &lt;chr&gt; | Broad.Bean.Origin &lt;chr&gt; |\n",
       "|---|---|---|---|---|---|---|---|---|\n",
       "| A. Morin | Agua Grande | 1876 | 2016 | 63% | France | 3.75 |         | Sao Tome  |\n",
       "| A. Morin | Kpime       | 1676 | 2015 | 70% | France | 2.75 |         | Togo      |\n",
       "| A. Morin | Atsane      | 1676 | 2015 | 70% | France | 3.00 |         | Togo      |\n",
       "| A. Morin | Akata       | 1680 | 2015 | 70% | France | 3.50 |         | Togo      |\n",
       "| A. Morin | Quilla      | 1704 | 2015 | 70% | France | 3.50 |         | Peru      |\n",
       "| A. Morin | Carenero    | 1315 | 2014 | 70% | France | 2.75 | Criollo | Venezuela |\n",
       "\n"
      ],
      "text/plain": [
       "  Company...Maker.if.known. Specific.Bean.Origin.or.Bar.Name REF  Review.Date\n",
       "1 A. Morin                  Agua Grande                      1876 2016       \n",
       "2 A. Morin                  Kpime                            1676 2015       \n",
       "3 A. Morin                  Atsane                           1676 2015       \n",
       "4 A. Morin                  Akata                            1680 2015       \n",
       "5 A. Morin                  Quilla                           1704 2015       \n",
       "6 A. Morin                  Carenero                         1315 2014       \n",
       "  Cocoa.Percent Company.Location Rating Bean.Type Broad.Bean.Origin\n",
       "1 63%           France           3.75             Sao Tome         \n",
       "2 70%           France           2.75             Togo             \n",
       "3 70%           France           3.00             Togo             \n",
       "4 70%           France           3.50             Togo             \n",
       "5 70%           France           3.50             Peru             \n",
       "6 70%           France           2.75   Criollo   Venezuela        "
      ]
     },
     "metadata": {},
     "output_type": "display_data"
    },
    {
     "data": {
      "text/html": [
       "<table class=\"dataframe\">\n",
       "<caption>A tibble: 3 × 9</caption>\n",
       "<thead>\n",
       "\t<tr><th scope=col>Company...Maker.if.known.</th><th scope=col>Specific.Bean.Origin.or.Bar.Name</th><th scope=col>REF</th><th scope=col>Review.Date</th><th scope=col>Cocoa.Percent</th><th scope=col>Company.Location</th><th scope=col>Rating</th><th scope=col>Bean.Type</th><th scope=col>Broad.Bean.Origin</th></tr>\n",
       "\t<tr><th scope=col>&lt;chr&gt;</th><th scope=col>&lt;chr&gt;</th><th scope=col>&lt;dbl&gt;</th><th scope=col>&lt;dbl&gt;</th><th scope=col>&lt;chr&gt;</th><th scope=col>&lt;chr&gt;</th><th scope=col>&lt;dbl&gt;</th><th scope=col>&lt;chr&gt;</th><th scope=col>&lt;chr&gt;</th></tr>\n",
       "</thead>\n",
       "<tbody>\n",
       "\t<tr><td>Zotter</td><td>Kerala State      </td><td>749</td><td>2011</td><td>65%</td><td>Austria</td><td>3.50</td><td>Forastero</td><td>India </td></tr>\n",
       "\t<tr><td>Zotter</td><td>Kerala State      </td><td>781</td><td>2011</td><td>62%</td><td>Austria</td><td>3.25</td><td>         </td><td>India </td></tr>\n",
       "\t<tr><td>Zotter</td><td>Brazil, Mitzi Blue</td><td>486</td><td>2010</td><td>65%</td><td>Austria</td><td>3.00</td><td>         </td><td>Brazil</td></tr>\n",
       "</tbody>\n",
       "</table>\n"
      ],
      "text/latex": [
       "A tibble: 3 × 9\n",
       "\\begin{tabular}{lllllllll}\n",
       " Company...Maker.if.known. & Specific.Bean.Origin.or.Bar.Name & REF & Review.Date & Cocoa.Percent & Company.Location & Rating & Bean.Type & Broad.Bean.Origin\\\\\n",
       " <chr> & <chr> & <dbl> & <dbl> & <chr> & <chr> & <dbl> & <chr> & <chr>\\\\\n",
       "\\hline\n",
       "\t Zotter & Kerala State       & 749 & 2011 & 65\\% & Austria & 3.50 & Forastero & India \\\\\n",
       "\t Zotter & Kerala State       & 781 & 2011 & 62\\% & Austria & 3.25 &           & India \\\\\n",
       "\t Zotter & Brazil, Mitzi Blue & 486 & 2010 & 65\\% & Austria & 3.00 &           & Brazil\\\\\n",
       "\\end{tabular}\n"
      ],
      "text/markdown": [
       "\n",
       "A tibble: 3 × 9\n",
       "\n",
       "| Company...Maker.if.known. &lt;chr&gt; | Specific.Bean.Origin.or.Bar.Name &lt;chr&gt; | REF &lt;dbl&gt; | Review.Date &lt;dbl&gt; | Cocoa.Percent &lt;chr&gt; | Company.Location &lt;chr&gt; | Rating &lt;dbl&gt; | Bean.Type &lt;chr&gt; | Broad.Bean.Origin &lt;chr&gt; |\n",
       "|---|---|---|---|---|---|---|---|---|\n",
       "| Zotter | Kerala State       | 749 | 2011 | 65% | Austria | 3.50 | Forastero | India  |\n",
       "| Zotter | Kerala State       | 781 | 2011 | 62% | Austria | 3.25 |           | India  |\n",
       "| Zotter | Brazil, Mitzi Blue | 486 | 2010 | 65% | Austria | 3.00 |           | Brazil |\n",
       "\n"
      ],
      "text/plain": [
       "  Company...Maker.if.known. Specific.Bean.Origin.or.Bar.Name REF Review.Date\n",
       "1 Zotter                    Kerala State                     749 2011       \n",
       "2 Zotter                    Kerala State                     781 2011       \n",
       "3 Zotter                    Brazil, Mitzi Blue               486 2010       \n",
       "  Cocoa.Percent Company.Location Rating Bean.Type Broad.Bean.Origin\n",
       "1 65%           Austria          3.50   Forastero India            \n",
       "2 62%           Austria          3.25             India            \n",
       "3 65%           Austria          3.00             Brazil           "
      ]
     },
     "metadata": {},
     "output_type": "display_data"
    }
   ],
   "source": [
    "# the head() function reads just the first few lines of a file. \n",
    "head(chocolateData)\n",
    "\n",
    "# the tail() function reads in the just the last few lines of a file. \n",
    "# we can also give both functions a specific number of lines to read.\n",
    "# This line will read in the last three lines of \"chocolateData\".\n",
    "tail(chocolateData, 3)"
   ]
  },
  {
   "cell_type": "code",
   "execution_count": 5,
   "id": "891d130a",
   "metadata": {
    "_cell_guid": "bcbda527-f15c-4ed0-b82f-8a9ec1a4557e",
    "_uuid": "6b4bad60d896250123b6985140efc7f9ba5cd2c0",
    "execution": {
     "iopub.execute_input": "2023-04-11T02:10:31.662184Z",
     "iopub.status.busy": "2023-04-11T02:10:31.660653Z",
     "iopub.status.idle": "2023-04-11T02:10:31.716858Z",
     "shell.execute_reply": "2023-04-11T02:10:31.714365Z"
    },
    "papermill": {
     "duration": 0.069938,
     "end_time": "2023-04-11T02:10:31.719878",
     "exception": false,
     "start_time": "2023-04-11T02:10:31.649940",
     "status": "completed"
    },
    "tags": []
   },
   "outputs": [
    {
     "data": {
      "text/html": [
       "<table class=\"dataframe\">\n",
       "<caption>A tibble: 4 × 61</caption>\n",
       "<thead>\n",
       "\t<tr><th scope=col>GPA</th><th scope=col>Gender</th><th scope=col>breakfast</th><th scope=col>calories_chicken</th><th scope=col>calories_day</th><th scope=col>calories_scone</th><th scope=col>coffee</th><th scope=col>comfort_food</th><th scope=col>comfort_food_reasons</th><th scope=col>comfort_food_reasons_coded...10</th><th scope=col>⋯</th><th scope=col>soup</th><th scope=col>sports</th><th scope=col>thai_food</th><th scope=col>tortilla_calories</th><th scope=col>turkey_calories</th><th scope=col>type_sports</th><th scope=col>veggies_day</th><th scope=col>vitamins</th><th scope=col>waffle_calories</th><th scope=col>weight</th></tr>\n",
       "\t<tr><th scope=col>&lt;chr&gt;</th><th scope=col>&lt;dbl&gt;</th><th scope=col>&lt;dbl&gt;</th><th scope=col>&lt;dbl&gt;</th><th scope=col>&lt;dbl&gt;</th><th scope=col>&lt;dbl&gt;</th><th scope=col>&lt;dbl&gt;</th><th scope=col>&lt;chr&gt;</th><th scope=col>&lt;chr&gt;</th><th scope=col>&lt;dbl&gt;</th><th scope=col>⋯</th><th scope=col>&lt;dbl&gt;</th><th scope=col>&lt;dbl&gt;</th><th scope=col>&lt;dbl&gt;</th><th scope=col>&lt;dbl&gt;</th><th scope=col>&lt;dbl&gt;</th><th scope=col>&lt;chr&gt;</th><th scope=col>&lt;dbl&gt;</th><th scope=col>&lt;dbl&gt;</th><th scope=col>&lt;dbl&gt;</th><th scope=col>&lt;chr&gt;</th></tr>\n",
       "</thead>\n",
       "<tbody>\n",
       "\t<tr><td>2.4  </td><td>2</td><td>1</td><td>430</td><td>NaN</td><td>315</td><td>1</td><td>none                            </td><td>we dont have comfort</td><td>9</td><td>⋯</td><td>1</td><td>1</td><td>1</td><td>1165</td><td>345</td><td>car racing</td><td>5</td><td>1</td><td>1315</td><td>187                    </td></tr>\n",
       "\t<tr><td>3.654</td><td>1</td><td>1</td><td>610</td><td>  3</td><td>420</td><td>2</td><td>chocolate, chips, ice cream     </td><td>Stress, bored, anger</td><td>1</td><td>⋯</td><td>1</td><td>1</td><td>2</td><td> 725</td><td>690</td><td>Basketball</td><td>4</td><td>2</td><td> 900</td><td>155                    </td></tr>\n",
       "\t<tr><td>3.3  </td><td>1</td><td>1</td><td>720</td><td>  4</td><td>420</td><td>2</td><td>frozen yogurt, pizza, fast food </td><td>stress, sadness     </td><td>1</td><td>⋯</td><td>1</td><td>2</td><td>5</td><td>1165</td><td>500</td><td>none      </td><td>5</td><td>1</td><td> 900</td><td>I'm not answering this.</td></tr>\n",
       "\t<tr><td>3.2  </td><td>1</td><td>1</td><td>430</td><td>  3</td><td>420</td><td>2</td><td>Pizza, Mac and cheese, ice cream</td><td>Boredom             </td><td>2</td><td>⋯</td><td>1</td><td>2</td><td>5</td><td> 725</td><td>690</td><td>nan       </td><td>3</td><td>1</td><td>1315</td><td>Not sure, 240          </td></tr>\n",
       "</tbody>\n",
       "</table>\n"
      ],
      "text/latex": [
       "A tibble: 4 × 61\n",
       "\\begin{tabular}{lllllllllllllllllllll}\n",
       " GPA & Gender & breakfast & calories\\_chicken & calories\\_day & calories\\_scone & coffee & comfort\\_food & comfort\\_food\\_reasons & comfort\\_food\\_reasons\\_coded...10 & ⋯ & soup & sports & thai\\_food & tortilla\\_calories & turkey\\_calories & type\\_sports & veggies\\_day & vitamins & waffle\\_calories & weight\\\\\n",
       " <chr> & <dbl> & <dbl> & <dbl> & <dbl> & <dbl> & <dbl> & <chr> & <chr> & <dbl> & ⋯ & <dbl> & <dbl> & <dbl> & <dbl> & <dbl> & <chr> & <dbl> & <dbl> & <dbl> & <chr>\\\\\n",
       "\\hline\n",
       "\t 2.4   & 2 & 1 & 430 & NaN & 315 & 1 & none                             & we dont have comfort & 9 & ⋯ & 1 & 1 & 1 & 1165 & 345 & car racing & 5 & 1 & 1315 & 187                    \\\\\n",
       "\t 3.654 & 1 & 1 & 610 &   3 & 420 & 2 & chocolate, chips, ice cream      & Stress, bored, anger & 1 & ⋯ & 1 & 1 & 2 &  725 & 690 & Basketball & 4 & 2 &  900 & 155                    \\\\\n",
       "\t 3.3   & 1 & 1 & 720 &   4 & 420 & 2 & frozen yogurt, pizza, fast food  & stress, sadness      & 1 & ⋯ & 1 & 2 & 5 & 1165 & 500 & none       & 5 & 1 &  900 & I'm not answering this.\\\\\n",
       "\t 3.2   & 1 & 1 & 430 &   3 & 420 & 2 & Pizza, Mac and cheese, ice cream & Boredom              & 2 & ⋯ & 1 & 2 & 5 &  725 & 690 & nan        & 3 & 1 & 1315 & Not sure, 240          \\\\\n",
       "\\end{tabular}\n"
      ],
      "text/markdown": [
       "\n",
       "A tibble: 4 × 61\n",
       "\n",
       "| GPA &lt;chr&gt; | Gender &lt;dbl&gt; | breakfast &lt;dbl&gt; | calories_chicken &lt;dbl&gt; | calories_day &lt;dbl&gt; | calories_scone &lt;dbl&gt; | coffee &lt;dbl&gt; | comfort_food &lt;chr&gt; | comfort_food_reasons &lt;chr&gt; | comfort_food_reasons_coded...10 &lt;dbl&gt; | ⋯ ⋯ | soup &lt;dbl&gt; | sports &lt;dbl&gt; | thai_food &lt;dbl&gt; | tortilla_calories &lt;dbl&gt; | turkey_calories &lt;dbl&gt; | type_sports &lt;chr&gt; | veggies_day &lt;dbl&gt; | vitamins &lt;dbl&gt; | waffle_calories &lt;dbl&gt; | weight &lt;chr&gt; |\n",
       "|---|---|---|---|---|---|---|---|---|---|---|---|---|---|---|---|---|---|---|---|---|\n",
       "| 2.4   | 2 | 1 | 430 | NaN | 315 | 1 | none                             | we dont have comfort | 9 | ⋯ | 1 | 1 | 1 | 1165 | 345 | car racing | 5 | 1 | 1315 | 187                     |\n",
       "| 3.654 | 1 | 1 | 610 |   3 | 420 | 2 | chocolate, chips, ice cream      | Stress, bored, anger | 1 | ⋯ | 1 | 1 | 2 |  725 | 690 | Basketball | 4 | 2 |  900 | 155                     |\n",
       "| 3.3   | 1 | 1 | 720 |   4 | 420 | 2 | frozen yogurt, pizza, fast food  | stress, sadness      | 1 | ⋯ | 1 | 2 | 5 | 1165 | 500 | none       | 5 | 1 |  900 | I'm not answering this. |\n",
       "| 3.2   | 1 | 1 | 430 |   3 | 420 | 2 | Pizza, Mac and cheese, ice cream | Boredom              | 2 | ⋯ | 1 | 2 | 5 |  725 | 690 | nan        | 3 | 1 | 1315 | Not sure, 240           |\n",
       "\n"
      ],
      "text/plain": [
       "  GPA   Gender breakfast calories_chicken calories_day calories_scone coffee\n",
       "1 2.4   2      1         430              NaN          315            1     \n",
       "2 3.654 1      1         610                3          420            2     \n",
       "3 3.3   1      1         720                4          420            2     \n",
       "4 3.2   1      1         430                3          420            2     \n",
       "  comfort_food                     comfort_food_reasons\n",
       "1 none                             we dont have comfort\n",
       "2 chocolate, chips, ice cream      Stress, bored, anger\n",
       "3 frozen yogurt, pizza, fast food  stress, sadness     \n",
       "4 Pizza, Mac and cheese, ice cream Boredom             \n",
       "  comfort_food_reasons_coded...10 ⋯ soup sports thai_food tortilla_calories\n",
       "1 9                               ⋯ 1    1      1         1165             \n",
       "2 1                               ⋯ 1    1      2          725             \n",
       "3 1                               ⋯ 1    2      5         1165             \n",
       "4 2                               ⋯ 1    2      5          725             \n",
       "  turkey_calories type_sports veggies_day vitamins waffle_calories\n",
       "1 345             car racing  5           1        1315           \n",
       "2 690             Basketball  4           2         900           \n",
       "3 500             none        5           1         900           \n",
       "4 690             nan         3           1        1315           \n",
       "  weight                 \n",
       "1 187                    \n",
       "2 155                    \n",
       "3 I'm not answering this.\n",
       "4 Not sure, 240          "
      ]
     },
     "metadata": {},
     "output_type": "display_data"
    }
   ],
   "source": [
    "# Your turn!\n",
    "\n",
    "# Get the first four lines of the foodPreferences dataframe you read in earlier\n",
    "\n",
    "head(foodPreferences, 4)"
   ]
  },
  {
   "cell_type": "markdown",
   "id": "2a57fa27",
   "metadata": {
    "_cell_guid": "4b4d917e-4938-4404-ac90-671a298ac721",
    "_uuid": "fef0a78453749281c885267d68007c8e7342e06a",
    "papermill": {
     "duration": 0.008902,
     "end_time": "2023-04-11T02:10:31.737325",
     "exception": false,
     "start_time": "2023-04-11T02:10:31.728423",
     "status": "completed"
    },
    "tags": []
   },
   "source": [
    "You'll notice that the data_frame data structure has two dimensions, unlike the vectors we worked with in the \"First Steps\" part of the tutorial. But the secret is that both of these dimensions are actually vectors! This mean that we can access specific cells in our data_frame using the indexes of values we're interested in.\n",
    "\n",
    "A quick refresher on how to acess data by its index: "
   ]
  },
  {
   "cell_type": "code",
   "execution_count": 6,
   "id": "3e6db4c4",
   "metadata": {
    "_cell_guid": "f8c0303f-13ed-452f-9b84-499f54a23510",
    "_uuid": "67c948e719d8fef52d7c2bb6c0657a748a3c041d",
    "execution": {
     "iopub.execute_input": "2023-04-11T02:10:31.758484Z",
     "iopub.status.busy": "2023-04-11T02:10:31.757032Z",
     "iopub.status.idle": "2023-04-11T02:10:31.783817Z",
     "shell.execute_reply": "2023-04-11T02:10:31.781977Z"
    },
    "papermill": {
     "duration": 0.039869,
     "end_time": "2023-04-11T02:10:31.786292",
     "exception": false,
     "start_time": "2023-04-11T02:10:31.746423",
     "status": "completed"
    },
    "tags": []
   },
   "outputs": [
    {
     "data": {
      "text/html": [
       "<style>\n",
       ".list-inline {list-style: none; margin:0; padding: 0}\n",
       ".list-inline>li {display: inline-block}\n",
       ".list-inline>li:not(:last-child)::after {content: \"\\00b7\"; padding: 0 .5ex}\n",
       "</style>\n",
       "<ol class=list-inline><li>5</li><li>10</li><li>15</li></ol>\n"
      ],
      "text/latex": [
       "\\begin{enumerate*}\n",
       "\\item 5\n",
       "\\item 10\n",
       "\\item 15\n",
       "\\end{enumerate*}\n"
      ],
      "text/markdown": [
       "1. 5\n",
       "2. 10\n",
       "3. 15\n",
       "\n",
       "\n"
      ],
      "text/plain": [
       "[1]  5 10 15"
      ]
     },
     "metadata": {},
     "output_type": "display_data"
    },
    {
     "data": {
      "text/html": [
       "5"
      ],
      "text/latex": [
       "5"
      ],
      "text/markdown": [
       "5"
      ],
      "text/plain": [
       "[1] 5"
      ]
     },
     "metadata": {},
     "output_type": "display_data"
    }
   ],
   "source": [
    "# make a little example vector\n",
    "a <- c(5,10,15)\n",
    "\n",
    "# if you ask for something at an index, but don't say which one, you'll get everything\n",
    "a[]\n",
    "\n",
    "# if you ask for a value at a specific index, you'll only get only that value. In R,\n",
    "# indexes start counting from 1 and go up. (So 3 is the third)\n",
    "a[1]"
   ]
  },
  {
   "cell_type": "markdown",
   "id": "58137056",
   "metadata": {
    "_cell_guid": "9e30c3db-0af0-4046-b5df-dcc34edfb73a",
    "_uuid": "b3836ba6b2bd158276a40c260a02eda4331258bb",
    "papermill": {
     "duration": 0.009099,
     "end_time": "2023-04-11T02:10:31.804329",
     "exception": false,
     "start_time": "2023-04-11T02:10:31.795230",
     "status": "completed"
    },
    "tags": []
   },
   "source": [
    "Data_frames work the same way, but you need to specify both the row and column, with a comma between them.\n",
    "\n",
    "> In R, if you ask for something from a two dimensional data structure, you'll always ask for the row first and the column second. So \"dataObject[2,4]\" means \"give me whatever is in the 2nd row and 4th column of the data frame called 'dataObject'\".\n",
    ">\n",
    "> One way to remember this is by thinking of \"RC Cola\". In the brand's name, \"RC\" stands for \"Royal Crown\"... but we can pretend it stands for \"Row Column\".\n",
    "\n",
    "![](https://upload.wikimedia.org/wikipedia/commons/e/e9/Drink_Royal_Crown_Cola.jpg)"
   ]
  },
  {
   "cell_type": "code",
   "execution_count": 7,
   "id": "7f9981ba",
   "metadata": {
    "_cell_guid": "1a68e491-f468-4de5-a74e-bfb40f669a60",
    "_uuid": "a41a78a3eee2b034ce782cd80da5b3124b61a927",
    "execution": {
     "iopub.execute_input": "2023-04-11T02:10:31.825798Z",
     "iopub.status.busy": "2023-04-11T02:10:31.824107Z",
     "iopub.status.idle": "2023-04-11T02:10:31.881111Z",
     "shell.execute_reply": "2023-04-11T02:10:31.879305Z"
    },
    "papermill": {
     "duration": 0.070533,
     "end_time": "2023-04-11T02:10:31.883633",
     "exception": false,
     "start_time": "2023-04-11T02:10:31.813100",
     "status": "completed"
    },
    "tags": []
   },
   "outputs": [
    {
     "data": {
      "text/html": [
       "<table class=\"dataframe\">\n",
       "<caption>A tibble: 1 × 1</caption>\n",
       "<thead>\n",
       "\t<tr><th scope=col>Review.Date</th></tr>\n",
       "\t<tr><th scope=col>&lt;dbl&gt;</th></tr>\n",
       "</thead>\n",
       "<tbody>\n",
       "\t<tr><td>2014</td></tr>\n",
       "</tbody>\n",
       "</table>\n"
      ],
      "text/latex": [
       "A tibble: 1 × 1\n",
       "\\begin{tabular}{l}\n",
       " Review.Date\\\\\n",
       " <dbl>\\\\\n",
       "\\hline\n",
       "\t 2014\\\\\n",
       "\\end{tabular}\n"
      ],
      "text/markdown": [
       "\n",
       "A tibble: 1 × 1\n",
       "\n",
       "| Review.Date &lt;dbl&gt; |\n",
       "|---|\n",
       "| 2014 |\n",
       "\n"
      ],
      "text/plain": [
       "  Review.Date\n",
       "1 2014       "
      ]
     },
     "metadata": {},
     "output_type": "display_data"
    },
    {
     "data": {
      "text/html": [
       "<table class=\"dataframe\">\n",
       "<caption>A tibble: 1 × 9</caption>\n",
       "<thead>\n",
       "\t<tr><th scope=col>Company...Maker.if.known.</th><th scope=col>Specific.Bean.Origin.or.Bar.Name</th><th scope=col>REF</th><th scope=col>Review.Date</th><th scope=col>Cocoa.Percent</th><th scope=col>Company.Location</th><th scope=col>Rating</th><th scope=col>Bean.Type</th><th scope=col>Broad.Bean.Origin</th></tr>\n",
       "\t<tr><th scope=col>&lt;chr&gt;</th><th scope=col>&lt;chr&gt;</th><th scope=col>&lt;dbl&gt;</th><th scope=col>&lt;dbl&gt;</th><th scope=col>&lt;chr&gt;</th><th scope=col>&lt;chr&gt;</th><th scope=col>&lt;dbl&gt;</th><th scope=col>&lt;chr&gt;</th><th scope=col>&lt;chr&gt;</th></tr>\n",
       "</thead>\n",
       "<tbody>\n",
       "\t<tr><td>A. Morin</td><td>Carenero</td><td>1315</td><td>2014</td><td>70%</td><td>France</td><td>2.75</td><td>Criollo</td><td>Venezuela</td></tr>\n",
       "</tbody>\n",
       "</table>\n"
      ],
      "text/latex": [
       "A tibble: 1 × 9\n",
       "\\begin{tabular}{lllllllll}\n",
       " Company...Maker.if.known. & Specific.Bean.Origin.or.Bar.Name & REF & Review.Date & Cocoa.Percent & Company.Location & Rating & Bean.Type & Broad.Bean.Origin\\\\\n",
       " <chr> & <chr> & <dbl> & <dbl> & <chr> & <chr> & <dbl> & <chr> & <chr>\\\\\n",
       "\\hline\n",
       "\t A. Morin & Carenero & 1315 & 2014 & 70\\% & France & 2.75 & Criollo & Venezuela\\\\\n",
       "\\end{tabular}\n"
      ],
      "text/markdown": [
       "\n",
       "A tibble: 1 × 9\n",
       "\n",
       "| Company...Maker.if.known. &lt;chr&gt; | Specific.Bean.Origin.or.Bar.Name &lt;chr&gt; | REF &lt;dbl&gt; | Review.Date &lt;dbl&gt; | Cocoa.Percent &lt;chr&gt; | Company.Location &lt;chr&gt; | Rating &lt;dbl&gt; | Bean.Type &lt;chr&gt; | Broad.Bean.Origin &lt;chr&gt; |\n",
       "|---|---|---|---|---|---|---|---|---|\n",
       "| A. Morin | Carenero | 1315 | 2014 | 70% | France | 2.75 | Criollo | Venezuela |\n",
       "\n"
      ],
      "text/plain": [
       "  Company...Maker.if.known. Specific.Bean.Origin.or.Bar.Name REF  Review.Date\n",
       "1 A. Morin                  Carenero                         1315 2014       \n",
       "  Cocoa.Percent Company.Location Rating Bean.Type Broad.Bean.Origin\n",
       "1 70%           France           2.75   Criollo   Venezuela        "
      ]
     },
     "metadata": {},
     "output_type": "display_data"
    },
    {
     "data": {
      "text/html": [
       "<table class=\"dataframe\">\n",
       "<caption>A tibble: 6 × 1</caption>\n",
       "<thead>\n",
       "\t<tr><th scope=col>Company.Location</th></tr>\n",
       "\t<tr><th scope=col>&lt;chr&gt;</th></tr>\n",
       "</thead>\n",
       "<tbody>\n",
       "\t<tr><td>France</td></tr>\n",
       "\t<tr><td>France</td></tr>\n",
       "\t<tr><td>France</td></tr>\n",
       "\t<tr><td>France</td></tr>\n",
       "\t<tr><td>France</td></tr>\n",
       "\t<tr><td>France</td></tr>\n",
       "</tbody>\n",
       "</table>\n"
      ],
      "text/latex": [
       "A tibble: 6 × 1\n",
       "\\begin{tabular}{l}\n",
       " Company.Location\\\\\n",
       " <chr>\\\\\n",
       "\\hline\n",
       "\t France\\\\\n",
       "\t France\\\\\n",
       "\t France\\\\\n",
       "\t France\\\\\n",
       "\t France\\\\\n",
       "\t France\\\\\n",
       "\\end{tabular}\n"
      ],
      "text/markdown": [
       "\n",
       "A tibble: 6 × 1\n",
       "\n",
       "| Company.Location &lt;chr&gt; |\n",
       "|---|\n",
       "| France |\n",
       "| France |\n",
       "| France |\n",
       "| France |\n",
       "| France |\n",
       "| France |\n",
       "\n"
      ],
      "text/plain": [
       "  Company.Location\n",
       "1 France          \n",
       "2 France          \n",
       "3 France          \n",
       "4 France          \n",
       "5 France          \n",
       "6 France          "
      ]
     },
     "metadata": {},
     "output_type": "display_data"
    }
   ],
   "source": [
    "# get the contents in the cell in the sixth row and the forth column\n",
    "chocolateData[6,4]\n",
    "\n",
    "# get the contents of every cell in the 6th row (note that you still need the comma!)\n",
    "chocolateData[6,]\n",
    "\n",
    "# if you forget the coulmn, you'll get the 6th *column* instead of the 6th *row*\n",
    "head(chocolateData[6])\n",
    "# I've used \"head\" here because the column is very long and I don't want\n",
    "# to fill up the screen by printing the whole thing out"
   ]
  },
  {
   "cell_type": "code",
   "execution_count": 8,
   "id": "53c0ecdc",
   "metadata": {
    "_cell_guid": "d99f7bdb-ba65-48d9-b909-6a310d16a79f",
    "_uuid": "2d26906e171275e7d659fae58f9e6250703b85c5",
    "execution": {
     "iopub.execute_input": "2023-04-11T02:10:31.906339Z",
     "iopub.status.busy": "2023-04-11T02:10:31.904830Z",
     "iopub.status.idle": "2023-04-11T02:10:31.964611Z",
     "shell.execute_reply": "2023-04-11T02:10:31.962496Z"
    },
    "papermill": {
     "duration": 0.074019,
     "end_time": "2023-04-11T02:10:31.967245",
     "exception": false,
     "start_time": "2023-04-11T02:10:31.893226",
     "status": "completed"
    },
    "tags": []
   },
   "outputs": [
    {
     "data": {
      "text/html": [
       "<table class=\"dataframe\">\n",
       "<caption>A tibble: 1 × 61</caption>\n",
       "<thead>\n",
       "\t<tr><th scope=col>GPA</th><th scope=col>Gender</th><th scope=col>breakfast</th><th scope=col>calories_chicken</th><th scope=col>calories_day</th><th scope=col>calories_scone</th><th scope=col>coffee</th><th scope=col>comfort_food</th><th scope=col>comfort_food_reasons</th><th scope=col>comfort_food_reasons_coded...10</th><th scope=col>⋯</th><th scope=col>soup</th><th scope=col>sports</th><th scope=col>thai_food</th><th scope=col>tortilla_calories</th><th scope=col>turkey_calories</th><th scope=col>type_sports</th><th scope=col>veggies_day</th><th scope=col>vitamins</th><th scope=col>waffle_calories</th><th scope=col>weight</th></tr>\n",
       "\t<tr><th scope=col>&lt;chr&gt;</th><th scope=col>&lt;dbl&gt;</th><th scope=col>&lt;dbl&gt;</th><th scope=col>&lt;dbl&gt;</th><th scope=col>&lt;dbl&gt;</th><th scope=col>&lt;dbl&gt;</th><th scope=col>&lt;dbl&gt;</th><th scope=col>&lt;chr&gt;</th><th scope=col>&lt;chr&gt;</th><th scope=col>&lt;dbl&gt;</th><th scope=col>⋯</th><th scope=col>&lt;dbl&gt;</th><th scope=col>&lt;dbl&gt;</th><th scope=col>&lt;dbl&gt;</th><th scope=col>&lt;dbl&gt;</th><th scope=col>&lt;dbl&gt;</th><th scope=col>&lt;chr&gt;</th><th scope=col>&lt;dbl&gt;</th><th scope=col>&lt;dbl&gt;</th><th scope=col>&lt;dbl&gt;</th><th scope=col>&lt;chr&gt;</th></tr>\n",
       "</thead>\n",
       "<tbody>\n",
       "\t<tr><td>2.4</td><td>2</td><td>1</td><td>430</td><td>NaN</td><td>315</td><td>1</td><td>none</td><td>we dont have comfort</td><td>9</td><td>⋯</td><td>1</td><td>1</td><td>1</td><td>1165</td><td>345</td><td>car racing</td><td>5</td><td>1</td><td>1315</td><td>187</td></tr>\n",
       "</tbody>\n",
       "</table>\n"
      ],
      "text/latex": [
       "A tibble: 1 × 61\n",
       "\\begin{tabular}{lllllllllllllllllllll}\n",
       " GPA & Gender & breakfast & calories\\_chicken & calories\\_day & calories\\_scone & coffee & comfort\\_food & comfort\\_food\\_reasons & comfort\\_food\\_reasons\\_coded...10 & ⋯ & soup & sports & thai\\_food & tortilla\\_calories & turkey\\_calories & type\\_sports & veggies\\_day & vitamins & waffle\\_calories & weight\\\\\n",
       " <chr> & <dbl> & <dbl> & <dbl> & <dbl> & <dbl> & <dbl> & <chr> & <chr> & <dbl> & ⋯ & <dbl> & <dbl> & <dbl> & <dbl> & <dbl> & <chr> & <dbl> & <dbl> & <dbl> & <chr>\\\\\n",
       "\\hline\n",
       "\t 2.4 & 2 & 1 & 430 & NaN & 315 & 1 & none & we dont have comfort & 9 & ⋯ & 1 & 1 & 1 & 1165 & 345 & car racing & 5 & 1 & 1315 & 187\\\\\n",
       "\\end{tabular}\n"
      ],
      "text/markdown": [
       "\n",
       "A tibble: 1 × 61\n",
       "\n",
       "| GPA &lt;chr&gt; | Gender &lt;dbl&gt; | breakfast &lt;dbl&gt; | calories_chicken &lt;dbl&gt; | calories_day &lt;dbl&gt; | calories_scone &lt;dbl&gt; | coffee &lt;dbl&gt; | comfort_food &lt;chr&gt; | comfort_food_reasons &lt;chr&gt; | comfort_food_reasons_coded...10 &lt;dbl&gt; | ⋯ ⋯ | soup &lt;dbl&gt; | sports &lt;dbl&gt; | thai_food &lt;dbl&gt; | tortilla_calories &lt;dbl&gt; | turkey_calories &lt;dbl&gt; | type_sports &lt;chr&gt; | veggies_day &lt;dbl&gt; | vitamins &lt;dbl&gt; | waffle_calories &lt;dbl&gt; | weight &lt;chr&gt; |\n",
       "|---|---|---|---|---|---|---|---|---|---|---|---|---|---|---|---|---|---|---|---|---|\n",
       "| 2.4 | 2 | 1 | 430 | NaN | 315 | 1 | none | we dont have comfort | 9 | ⋯ | 1 | 1 | 1 | 1165 | 345 | car racing | 5 | 1 | 1315 | 187 |\n",
       "\n"
      ],
      "text/plain": [
       "  GPA Gender breakfast calories_chicken calories_day calories_scone coffee\n",
       "1 2.4 2      1         430              NaN          315            1     \n",
       "  comfort_food comfort_food_reasons comfort_food_reasons_coded...10 ⋯ soup\n",
       "1 none         we dont have comfort 9                               ⋯ 1   \n",
       "  sports thai_food tortilla_calories turkey_calories type_sports veggies_day\n",
       "1 1      1         1165              345             car racing  5          \n",
       "  vitamins waffle_calories weight\n",
       "1 1        1315            187   "
      ]
     },
     "metadata": {},
     "output_type": "display_data"
    },
    {
     "data": {
      "text/html": [
       "<table class=\"dataframe\">\n",
       "<caption>A tibble: 1 × 1</caption>\n",
       "<thead>\n",
       "\t<tr><th scope=col>calories_chicken</th></tr>\n",
       "\t<tr><th scope=col>&lt;dbl&gt;</th></tr>\n",
       "</thead>\n",
       "<tbody>\n",
       "\t<tr><td>430</td></tr>\n",
       "</tbody>\n",
       "</table>\n"
      ],
      "text/latex": [
       "A tibble: 1 × 1\n",
       "\\begin{tabular}{l}\n",
       " calories\\_chicken\\\\\n",
       " <dbl>\\\\\n",
       "\\hline\n",
       "\t 430\\\\\n",
       "\\end{tabular}\n"
      ],
      "text/markdown": [
       "\n",
       "A tibble: 1 × 1\n",
       "\n",
       "| calories_chicken &lt;dbl&gt; |\n",
       "|---|\n",
       "| 430 |\n",
       "\n"
      ],
      "text/plain": [
       "  calories_chicken\n",
       "1 430             "
      ]
     },
     "metadata": {},
     "output_type": "display_data"
    }
   ],
   "source": [
    "# Your turn!\n",
    "# dataframe[row,column]\n",
    "# Get the first row of your \"foodPreferences\" data_frame\n",
    "\n",
    "foodPreferences[1,]\n",
    "\n",
    "# Get the value from the cell in the 100th row and 4th column\n",
    "\n",
    "foodPreferences[100,4]"
   ]
  },
  {
   "cell_type": "markdown",
   "id": "5f975cbd",
   "metadata": {
    "_cell_guid": "5d8d7b67-5831-4914-bc75-3e59a81d1b6b",
    "_uuid": "fc5eacb92814a6c451c15884865f428df0684acc",
    "papermill": {
     "duration": 0.009614,
     "end_time": "2023-04-11T02:10:31.986586",
     "exception": false,
     "start_time": "2023-04-11T02:10:31.976972",
     "status": "completed"
    },
    "tags": []
   },
   "source": [
    "## Remove unwanted data\n"
   ]
  },
  {
   "cell_type": "markdown",
   "id": "18e06c5e",
   "metadata": {
    "_cell_guid": "be055462-a712-4583-bf83-a00ba8202574",
    "_uuid": "cfd8da3bea705c0aabba0c0843004b01d931ba30",
    "papermill": {
     "duration": 0.009947,
     "end_time": "2023-04-11T02:10:32.006245",
     "exception": false,
     "start_time": "2023-04-11T02:10:31.996298",
     "status": "completed"
    },
    "tags": []
   },
   "source": [
    "In addition to using indexes to get certain values, we can also use them to *remove* data we're not interested in. You can do this by putting a minus sign (-) in front of the index you don't want.\n",
    "\n",
    "You may have noticed earlier that the first row of the \"chocolateData\" data_frame is the same as the column names. Let's remove it."
   ]
  },
  {
   "cell_type": "code",
   "execution_count": 9,
   "id": "b8ef0daf",
   "metadata": {
    "_cell_guid": "b9d67442-fe79-4f24-9a4c-d7484a7f622f",
    "_uuid": "5e0309fe4413ea6906e787a877253445cdcd72bb",
    "execution": {
     "iopub.execute_input": "2023-04-11T02:10:32.029283Z",
     "iopub.status.busy": "2023-04-11T02:10:32.027745Z",
     "iopub.status.idle": "2023-04-11T02:10:32.056401Z",
     "shell.execute_reply": "2023-04-11T02:10:32.054687Z"
    },
    "papermill": {
     "duration": 0.042714,
     "end_time": "2023-04-11T02:10:32.058766",
     "exception": false,
     "start_time": "2023-04-11T02:10:32.016052",
     "status": "completed"
    },
    "tags": []
   },
   "outputs": [
    {
     "data": {
      "text/html": [
       "<table class=\"dataframe\">\n",
       "<caption>A tibble: 6 × 9</caption>\n",
       "<thead>\n",
       "\t<tr><th scope=col>Company...Maker.if.known.</th><th scope=col>Specific.Bean.Origin.or.Bar.Name</th><th scope=col>REF</th><th scope=col>Review.Date</th><th scope=col>Cocoa.Percent</th><th scope=col>Company.Location</th><th scope=col>Rating</th><th scope=col>Bean.Type</th><th scope=col>Broad.Bean.Origin</th></tr>\n",
       "\t<tr><th scope=col>&lt;chr&gt;</th><th scope=col>&lt;chr&gt;</th><th scope=col>&lt;dbl&gt;</th><th scope=col>&lt;dbl&gt;</th><th scope=col>&lt;chr&gt;</th><th scope=col>&lt;chr&gt;</th><th scope=col>&lt;dbl&gt;</th><th scope=col>&lt;chr&gt;</th><th scope=col>&lt;chr&gt;</th></tr>\n",
       "</thead>\n",
       "<tbody>\n",
       "\t<tr><td>A. Morin</td><td>Agua Grande</td><td>1876</td><td>2016</td><td>63%</td><td>France</td><td>3.75</td><td>       </td><td>Sao Tome </td></tr>\n",
       "\t<tr><td>A. Morin</td><td>Kpime      </td><td>1676</td><td>2015</td><td>70%</td><td>France</td><td>2.75</td><td>       </td><td>Togo     </td></tr>\n",
       "\t<tr><td>A. Morin</td><td>Atsane     </td><td>1676</td><td>2015</td><td>70%</td><td>France</td><td>3.00</td><td>       </td><td>Togo     </td></tr>\n",
       "\t<tr><td>A. Morin</td><td>Akata      </td><td>1680</td><td>2015</td><td>70%</td><td>France</td><td>3.50</td><td>       </td><td>Togo     </td></tr>\n",
       "\t<tr><td>A. Morin</td><td>Quilla     </td><td>1704</td><td>2015</td><td>70%</td><td>France</td><td>3.50</td><td>       </td><td>Peru     </td></tr>\n",
       "\t<tr><td>A. Morin</td><td>Carenero   </td><td>1315</td><td>2014</td><td>70%</td><td>France</td><td>2.75</td><td>Criollo</td><td>Venezuela</td></tr>\n",
       "</tbody>\n",
       "</table>\n"
      ],
      "text/latex": [
       "A tibble: 6 × 9\n",
       "\\begin{tabular}{lllllllll}\n",
       " Company...Maker.if.known. & Specific.Bean.Origin.or.Bar.Name & REF & Review.Date & Cocoa.Percent & Company.Location & Rating & Bean.Type & Broad.Bean.Origin\\\\\n",
       " <chr> & <chr> & <dbl> & <dbl> & <chr> & <chr> & <dbl> & <chr> & <chr>\\\\\n",
       "\\hline\n",
       "\t A. Morin & Agua Grande & 1876 & 2016 & 63\\% & France & 3.75 &         & Sao Tome \\\\\n",
       "\t A. Morin & Kpime       & 1676 & 2015 & 70\\% & France & 2.75 &         & Togo     \\\\\n",
       "\t A. Morin & Atsane      & 1676 & 2015 & 70\\% & France & 3.00 &         & Togo     \\\\\n",
       "\t A. Morin & Akata       & 1680 & 2015 & 70\\% & France & 3.50 &         & Togo     \\\\\n",
       "\t A. Morin & Quilla      & 1704 & 2015 & 70\\% & France & 3.50 &         & Peru     \\\\\n",
       "\t A. Morin & Carenero    & 1315 & 2014 & 70\\% & France & 2.75 & Criollo & Venezuela\\\\\n",
       "\\end{tabular}\n"
      ],
      "text/markdown": [
       "\n",
       "A tibble: 6 × 9\n",
       "\n",
       "| Company...Maker.if.known. &lt;chr&gt; | Specific.Bean.Origin.or.Bar.Name &lt;chr&gt; | REF &lt;dbl&gt; | Review.Date &lt;dbl&gt; | Cocoa.Percent &lt;chr&gt; | Company.Location &lt;chr&gt; | Rating &lt;dbl&gt; | Bean.Type &lt;chr&gt; | Broad.Bean.Origin &lt;chr&gt; |\n",
       "|---|---|---|---|---|---|---|---|---|\n",
       "| A. Morin | Agua Grande | 1876 | 2016 | 63% | France | 3.75 |         | Sao Tome  |\n",
       "| A. Morin | Kpime       | 1676 | 2015 | 70% | France | 2.75 |         | Togo      |\n",
       "| A. Morin | Atsane      | 1676 | 2015 | 70% | France | 3.00 |         | Togo      |\n",
       "| A. Morin | Akata       | 1680 | 2015 | 70% | France | 3.50 |         | Togo      |\n",
       "| A. Morin | Quilla      | 1704 | 2015 | 70% | France | 3.50 |         | Peru      |\n",
       "| A. Morin | Carenero    | 1315 | 2014 | 70% | France | 2.75 | Criollo | Venezuela |\n",
       "\n"
      ],
      "text/plain": [
       "  Company...Maker.if.known. Specific.Bean.Origin.or.Bar.Name REF  Review.Date\n",
       "1 A. Morin                  Agua Grande                      1876 2016       \n",
       "2 A. Morin                  Kpime                            1676 2015       \n",
       "3 A. Morin                  Atsane                           1676 2015       \n",
       "4 A. Morin                  Akata                            1680 2015       \n",
       "5 A. Morin                  Quilla                           1704 2015       \n",
       "6 A. Morin                  Carenero                         1315 2014       \n",
       "  Cocoa.Percent Company.Location Rating Bean.Type Broad.Bean.Origin\n",
       "1 63%           France           3.75             Sao Tome         \n",
       "2 70%           France           2.75             Togo             \n",
       "3 70%           France           3.00             Togo             \n",
       "4 70%           France           3.50             Togo             \n",
       "5 70%           France           3.50             Peru             \n",
       "6 70%           France           2.75   Criollo   Venezuela        "
      ]
     },
     "metadata": {},
     "output_type": "display_data"
    }
   ],
   "source": [
    "head(chocolateData)"
   ]
  },
  {
   "cell_type": "code",
   "execution_count": 10,
   "id": "6ece763a",
   "metadata": {
    "_cell_guid": "79312270-618e-4181-a2ca-da3379ca1a9d",
    "_uuid": "ce61c0c80a3f29662fe568248110a612018f566d",
    "execution": {
     "iopub.execute_input": "2023-04-11T02:10:32.082832Z",
     "iopub.status.busy": "2023-04-11T02:10:32.081310Z",
     "iopub.status.idle": "2023-04-11T02:10:32.113810Z",
     "shell.execute_reply": "2023-04-11T02:10:32.112013Z"
    },
    "papermill": {
     "duration": 0.047224,
     "end_time": "2023-04-11T02:10:32.116265",
     "exception": false,
     "start_time": "2023-04-11T02:10:32.069041",
     "status": "completed"
    },
    "tags": []
   },
   "outputs": [
    {
     "data": {
      "text/html": [
       "<table class=\"dataframe\">\n",
       "<caption>A tibble: 6 × 9</caption>\n",
       "<thead>\n",
       "\t<tr><th scope=col>Company...Maker.if.known.</th><th scope=col>Specific.Bean.Origin.or.Bar.Name</th><th scope=col>REF</th><th scope=col>Review.Date</th><th scope=col>Cocoa.Percent</th><th scope=col>Company.Location</th><th scope=col>Rating</th><th scope=col>Bean.Type</th><th scope=col>Broad.Bean.Origin</th></tr>\n",
       "\t<tr><th scope=col>&lt;chr&gt;</th><th scope=col>&lt;chr&gt;</th><th scope=col>&lt;dbl&gt;</th><th scope=col>&lt;dbl&gt;</th><th scope=col>&lt;chr&gt;</th><th scope=col>&lt;chr&gt;</th><th scope=col>&lt;dbl&gt;</th><th scope=col>&lt;chr&gt;</th><th scope=col>&lt;chr&gt;</th></tr>\n",
       "</thead>\n",
       "<tbody>\n",
       "\t<tr><td>A. Morin</td><td>Kpime   </td><td>1676</td><td>2015</td><td>70%</td><td>France</td><td>2.75</td><td>       </td><td>Togo     </td></tr>\n",
       "\t<tr><td>A. Morin</td><td>Atsane  </td><td>1676</td><td>2015</td><td>70%</td><td>France</td><td>3.00</td><td>       </td><td>Togo     </td></tr>\n",
       "\t<tr><td>A. Morin</td><td>Akata   </td><td>1680</td><td>2015</td><td>70%</td><td>France</td><td>3.50</td><td>       </td><td>Togo     </td></tr>\n",
       "\t<tr><td>A. Morin</td><td>Quilla  </td><td>1704</td><td>2015</td><td>70%</td><td>France</td><td>3.50</td><td>       </td><td>Peru     </td></tr>\n",
       "\t<tr><td>A. Morin</td><td>Carenero</td><td>1315</td><td>2014</td><td>70%</td><td>France</td><td>2.75</td><td>Criollo</td><td>Venezuela</td></tr>\n",
       "\t<tr><td>A. Morin</td><td>Cuba    </td><td>1315</td><td>2014</td><td>70%</td><td>France</td><td>3.50</td><td>       </td><td>Cuba     </td></tr>\n",
       "</tbody>\n",
       "</table>\n"
      ],
      "text/latex": [
       "A tibble: 6 × 9\n",
       "\\begin{tabular}{lllllllll}\n",
       " Company...Maker.if.known. & Specific.Bean.Origin.or.Bar.Name & REF & Review.Date & Cocoa.Percent & Company.Location & Rating & Bean.Type & Broad.Bean.Origin\\\\\n",
       " <chr> & <chr> & <dbl> & <dbl> & <chr> & <chr> & <dbl> & <chr> & <chr>\\\\\n",
       "\\hline\n",
       "\t A. Morin & Kpime    & 1676 & 2015 & 70\\% & France & 2.75 &         & Togo     \\\\\n",
       "\t A. Morin & Atsane   & 1676 & 2015 & 70\\% & France & 3.00 &         & Togo     \\\\\n",
       "\t A. Morin & Akata    & 1680 & 2015 & 70\\% & France & 3.50 &         & Togo     \\\\\n",
       "\t A. Morin & Quilla   & 1704 & 2015 & 70\\% & France & 3.50 &         & Peru     \\\\\n",
       "\t A. Morin & Carenero & 1315 & 2014 & 70\\% & France & 2.75 & Criollo & Venezuela\\\\\n",
       "\t A. Morin & Cuba     & 1315 & 2014 & 70\\% & France & 3.50 &         & Cuba     \\\\\n",
       "\\end{tabular}\n"
      ],
      "text/markdown": [
       "\n",
       "A tibble: 6 × 9\n",
       "\n",
       "| Company...Maker.if.known. &lt;chr&gt; | Specific.Bean.Origin.or.Bar.Name &lt;chr&gt; | REF &lt;dbl&gt; | Review.Date &lt;dbl&gt; | Cocoa.Percent &lt;chr&gt; | Company.Location &lt;chr&gt; | Rating &lt;dbl&gt; | Bean.Type &lt;chr&gt; | Broad.Bean.Origin &lt;chr&gt; |\n",
       "|---|---|---|---|---|---|---|---|---|\n",
       "| A. Morin | Kpime    | 1676 | 2015 | 70% | France | 2.75 |         | Togo      |\n",
       "| A. Morin | Atsane   | 1676 | 2015 | 70% | France | 3.00 |         | Togo      |\n",
       "| A. Morin | Akata    | 1680 | 2015 | 70% | France | 3.50 |         | Togo      |\n",
       "| A. Morin | Quilla   | 1704 | 2015 | 70% | France | 3.50 |         | Peru      |\n",
       "| A. Morin | Carenero | 1315 | 2014 | 70% | France | 2.75 | Criollo | Venezuela |\n",
       "| A. Morin | Cuba     | 1315 | 2014 | 70% | France | 3.50 |         | Cuba      |\n",
       "\n"
      ],
      "text/plain": [
       "  Company...Maker.if.known. Specific.Bean.Origin.or.Bar.Name REF  Review.Date\n",
       "1 A. Morin                  Kpime                            1676 2015       \n",
       "2 A. Morin                  Atsane                           1676 2015       \n",
       "3 A. Morin                  Akata                            1680 2015       \n",
       "4 A. Morin                  Quilla                           1704 2015       \n",
       "5 A. Morin                  Carenero                         1315 2014       \n",
       "6 A. Morin                  Cuba                             1315 2014       \n",
       "  Cocoa.Percent Company.Location Rating Bean.Type Broad.Bean.Origin\n",
       "1 70%           France           2.75             Togo             \n",
       "2 70%           France           3.00             Togo             \n",
       "3 70%           France           3.50             Togo             \n",
       "4 70%           France           3.50             Peru             \n",
       "5 70%           France           2.75   Criollo   Venezuela        \n",
       "6 70%           France           3.50             Cuba             "
      ]
     },
     "metadata": {},
     "output_type": "display_data"
    }
   ],
   "source": [
    "# get all rows EXCEPT the first row and all columns of chocolateData\n",
    "# By putting it back in the same variable, we're overwriting what was in \n",
    "# that variable before, so be careful with this!\n",
    "chocolateData <- chocolateData[-1,] \n",
    "\n",
    "# make sure we removed the row we didn't want\n",
    "head(chocolateData)"
   ]
  },
  {
   "cell_type": "code",
   "execution_count": 11,
   "id": "98b7759a",
   "metadata": {
    "_cell_guid": "71a8e3c4-1049-4e9c-8025-c764fbab716c",
    "_uuid": "79aeb9b58fdd4d40e8053857f50e77eb8dae914f",
    "execution": {
     "iopub.execute_input": "2023-04-11T02:10:32.140547Z",
     "iopub.status.busy": "2023-04-11T02:10:32.138936Z",
     "iopub.status.idle": "2023-04-11T02:10:32.176795Z",
     "shell.execute_reply": "2023-04-11T02:10:32.175001Z"
    },
    "papermill": {
     "duration": 0.052489,
     "end_time": "2023-04-11T02:10:32.179056",
     "exception": false,
     "start_time": "2023-04-11T02:10:32.126567",
     "status": "completed"
    },
    "tags": []
   },
   "outputs": [
    {
     "data": {
      "text/html": [
       "<table class=\"dataframe\">\n",
       "<caption>A tibble: 6 × 8</caption>\n",
       "<thead>\n",
       "\t<tr><th scope=col>Company...Maker.if.known.</th><th scope=col>Specific.Bean.Origin.or.Bar.Name</th><th scope=col>REF</th><th scope=col>Review.Date</th><th scope=col>Company.Location</th><th scope=col>Rating</th><th scope=col>Bean.Type</th><th scope=col>Broad.Bean.Origin</th></tr>\n",
       "\t<tr><th scope=col>&lt;chr&gt;</th><th scope=col>&lt;chr&gt;</th><th scope=col>&lt;dbl&gt;</th><th scope=col>&lt;dbl&gt;</th><th scope=col>&lt;chr&gt;</th><th scope=col>&lt;dbl&gt;</th><th scope=col>&lt;chr&gt;</th><th scope=col>&lt;chr&gt;</th></tr>\n",
       "</thead>\n",
       "<tbody>\n",
       "\t<tr><td>A. Morin</td><td>Kpime   </td><td>1676</td><td>2015</td><td>France</td><td>2.75</td><td>       </td><td>Togo     </td></tr>\n",
       "\t<tr><td>A. Morin</td><td>Atsane  </td><td>1676</td><td>2015</td><td>France</td><td>3.00</td><td>       </td><td>Togo     </td></tr>\n",
       "\t<tr><td>A. Morin</td><td>Akata   </td><td>1680</td><td>2015</td><td>France</td><td>3.50</td><td>       </td><td>Togo     </td></tr>\n",
       "\t<tr><td>A. Morin</td><td>Quilla  </td><td>1704</td><td>2015</td><td>France</td><td>3.50</td><td>       </td><td>Peru     </td></tr>\n",
       "\t<tr><td>A. Morin</td><td>Carenero</td><td>1315</td><td>2014</td><td>France</td><td>2.75</td><td>Criollo</td><td>Venezuela</td></tr>\n",
       "\t<tr><td>A. Morin</td><td>Cuba    </td><td>1315</td><td>2014</td><td>France</td><td>3.50</td><td>       </td><td>Cuba     </td></tr>\n",
       "</tbody>\n",
       "</table>\n"
      ],
      "text/latex": [
       "A tibble: 6 × 8\n",
       "\\begin{tabular}{llllllll}\n",
       " Company...Maker.if.known. & Specific.Bean.Origin.or.Bar.Name & REF & Review.Date & Company.Location & Rating & Bean.Type & Broad.Bean.Origin\\\\\n",
       " <chr> & <chr> & <dbl> & <dbl> & <chr> & <dbl> & <chr> & <chr>\\\\\n",
       "\\hline\n",
       "\t A. Morin & Kpime    & 1676 & 2015 & France & 2.75 &         & Togo     \\\\\n",
       "\t A. Morin & Atsane   & 1676 & 2015 & France & 3.00 &         & Togo     \\\\\n",
       "\t A. Morin & Akata    & 1680 & 2015 & France & 3.50 &         & Togo     \\\\\n",
       "\t A. Morin & Quilla   & 1704 & 2015 & France & 3.50 &         & Peru     \\\\\n",
       "\t A. Morin & Carenero & 1315 & 2014 & France & 2.75 & Criollo & Venezuela\\\\\n",
       "\t A. Morin & Cuba     & 1315 & 2014 & France & 3.50 &         & Cuba     \\\\\n",
       "\\end{tabular}\n"
      ],
      "text/markdown": [
       "\n",
       "A tibble: 6 × 8\n",
       "\n",
       "| Company...Maker.if.known. &lt;chr&gt; | Specific.Bean.Origin.or.Bar.Name &lt;chr&gt; | REF &lt;dbl&gt; | Review.Date &lt;dbl&gt; | Company.Location &lt;chr&gt; | Rating &lt;dbl&gt; | Bean.Type &lt;chr&gt; | Broad.Bean.Origin &lt;chr&gt; |\n",
       "|---|---|---|---|---|---|---|---|\n",
       "| A. Morin | Kpime    | 1676 | 2015 | France | 2.75 |         | Togo      |\n",
       "| A. Morin | Atsane   | 1676 | 2015 | France | 3.00 |         | Togo      |\n",
       "| A. Morin | Akata    | 1680 | 2015 | France | 3.50 |         | Togo      |\n",
       "| A. Morin | Quilla   | 1704 | 2015 | France | 3.50 |         | Peru      |\n",
       "| A. Morin | Carenero | 1315 | 2014 | France | 2.75 | Criollo | Venezuela |\n",
       "| A. Morin | Cuba     | 1315 | 2014 | France | 3.50 |         | Cuba      |\n",
       "\n"
      ],
      "text/plain": [
       "  Company...Maker.if.known. Specific.Bean.Origin.or.Bar.Name REF  Review.Date\n",
       "1 A. Morin                  Kpime                            1676 2015       \n",
       "2 A. Morin                  Atsane                           1676 2015       \n",
       "3 A. Morin                  Akata                            1680 2015       \n",
       "4 A. Morin                  Quilla                           1704 2015       \n",
       "5 A. Morin                  Carenero                         1315 2014       \n",
       "6 A. Morin                  Cuba                             1315 2014       \n",
       "  Company.Location Rating Bean.Type Broad.Bean.Origin\n",
       "1 France           2.75             Togo             \n",
       "2 France           3.00             Togo             \n",
       "3 France           3.50             Togo             \n",
       "4 France           3.50             Peru             \n",
       "5 France           2.75   Criollo   Venezuela        \n",
       "6 France           3.50             Cuba             "
      ]
     },
     "metadata": {},
     "output_type": "display_data"
    }
   ],
   "source": [
    "# Your turn!\n",
    "\n",
    "# The 5th column in the \"foodPreferences\" dataset has a lot of values that aren't \n",
    "# numbers (nan means \"not a number\"). Can you remove the 5th column from the dataset?\n",
    "chocolateData <- chocolateData[,-5] \n",
    "\n",
    "head(chocolateData)"
   ]
  },
  {
   "cell_type": "markdown",
   "id": "30e7330f",
   "metadata": {
    "_cell_guid": "95d15958-a8b3-43c2-8940-95b0e2271db4",
    "_uuid": "b01695617265d19aeee7393215c45cab50f7ba44",
    "papermill": {
     "duration": 0.010861,
     "end_time": "2023-04-11T02:10:32.200333",
     "exception": false,
     "start_time": "2023-04-11T02:10:32.189472",
     "status": "completed"
    },
    "tags": []
   },
   "source": [
    "Alright, now that we've read our data into R, checked that it looks alright and gotten rid of a row we didn't want, it's time to get down to doing some analysis. In the next section, we'll learn how to summerize our data and get into some basic statistics!"
   ]
  },
  {
   "cell_type": "markdown",
   "id": "a5ff8bbb",
   "metadata": {
    "_cell_guid": "ddd3caf3-4b6e-43a5-aea3-015ee692fc4b",
    "_uuid": "de957e271c7fa03464825f3d93793caec7042a53",
    "papermill": {
     "duration": 0.010531,
     "end_time": "2023-04-11T02:10:32.221624",
     "exception": false,
     "start_time": "2023-04-11T02:10:32.211093",
     "status": "completed"
    },
    "tags": []
   },
   "source": [
    "## Next step: [Summarize our data](https://www.kaggle.com/rtatman/getting-started-in-r-summarize-data/)"
   ]
  }
 ],
 "metadata": {
  "kernelspec": {
   "display_name": "R",
   "language": "R",
   "name": "ir"
  },
  "language_info": {
   "codemirror_mode": "r",
   "file_extension": ".r",
   "mimetype": "text/x-r-source",
   "name": "R",
   "pygments_lexer": "r",
   "version": "4.0.5"
  },
  "papermill": {
   "default_parameters": {},
   "duration": 6.540124,
   "end_time": "2023-04-11T02:10:32.354044",
   "environment_variables": {},
   "exception": null,
   "input_path": "__notebook__.ipynb",
   "output_path": "__notebook__.ipynb",
   "parameters": {},
   "start_time": "2023-04-11T02:10:25.813920",
   "version": "2.4.0"
  }
 },
 "nbformat": 4,
 "nbformat_minor": 5
}
